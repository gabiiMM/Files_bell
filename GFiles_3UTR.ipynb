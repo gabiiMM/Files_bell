{
 "cells": [
  {
   "attachments": {},
   "cell_type": "markdown",
   "metadata": {},
   "source": [
    "# Creacion de los archivos necesarios para el pipeline de bell"
   ]
  },
  {
   "attachments": {},
   "cell_type": "markdown",
   "metadata": {},
   "source": [
    "### El primer archivo con el que se va a trabajar es con TAIR10_3_utr_20101028.fasta"
   ]
  },
  {
   "attachments": {},
   "cell_type": "markdown",
   "metadata": {},
   "source": [
    "Se extraen todos los encabezados del fasta de la siguiente forma:"
   ]
  },
  {
   "cell_type": "code",
   "execution_count": 23,
   "metadata": {},
   "outputs": [
    {
     "name": "stdout",
     "output_type": "stream",
     "text": [
      "AT1G51370.2\tchr1:19046749-19046825\tFORWARD\t77\n",
      "AT1G50920.1\tchr1:18872571-18872930\tFORWARD\t260\n",
      "AT1G44020.1\tchr1:16716112-16716691\tREVERSE\t580\n",
      "AT1G15970.1\tchr1:5486319-5486543\tREVERSE\t225\n",
      "AT1G73440.1\tchr1:27612183-27612815\tFORWARD\t633\n",
      "AT1G75120.1\tchr1:28196857-28197021\tREVERSE\t165\n",
      "AT1G17600.1\tchr1:6052936-6053025\tREVERSE\t90\n",
      "AT1G51380.1\tchr1:19049968-19050162\tFORWARD\t195\n",
      "AT1G77370.1\tchr1:29074643-29074796\tFORWARD\t154\n",
      "AT1G10950.1\tchr1:3663623-3663984\tFORWARD\t362\n"
     ]
    }
   ],
   "source": [
    "%%bash\n",
    "cd ../Transcritos\n",
    "grep '>' TAIR10_3_utr_20101028.fasta | sed -e 's/|[^|]*|//g' -e 's/>//g' -e 's/LENGTH=//g' | awk '{$1=$1};1' OFS='\\t'>  TAIR10_3_utr_20101028_encabezados.txt\n",
    "head TAIR10_3_utr_20101028_encabezados.txt\n",
    "cp TAIR10_3_utr_20101028_encabezados.txt ../GTF/"
   ]
  },
  {
   "attachments": {},
   "cell_type": "markdown",
   "metadata": {},
   "source": [
    "Ahora se extraen unicamente los 3 UTR del GTF:\n"
   ]
  },
  {
   "cell_type": "code",
   "execution_count": 24,
   "metadata": {},
   "outputs": [
    {
     "name": "stdout",
     "output_type": "stream",
     "text": [
      "1\taraport11\tthree_prime_utr\t10942648\t10942825\t.\t-\t.\tgene_id \"AT1G30814\"; transcript_id \"AT1G30814.1\"; gene_name \"AT1G30814\"; gene_source \"araport11\"; gene_biotype \"protein_coding\"; transcript_name \"AT1G30814-203\"; transcript_source \"araport11\"; transcript_biotype \"protein_coding\"; tag \"Ensembl_canonical\";\n",
      "1\taraport11\tthree_prime_utr\t10942648\t10942825\t.\t-\t.\tgene_id \"AT1G30814\"; transcript_id \"AT1G30814.4\"; gene_name \"AT1G30814\"; gene_source \"araport11\"; gene_biotype \"protein_coding\"; transcript_name \"AT1G30814-202\"; transcript_source \"araport11\"; transcript_biotype \"protein_coding\";\n",
      "1\taraport11\tthree_prime_utr\t10943007\t10943138\t.\t-\t.\tgene_id \"AT1G30814\"; transcript_id \"AT1G30814.2\"; gene_name \"AT1G30814\"; gene_source \"araport11\"; gene_biotype \"protein_coding\"; transcript_name \"AT1G30814-204\"; transcript_source \"araport11\"; transcript_biotype \"protein_coding\";\n",
      "1\taraport11\tthree_prime_utr\t10942663\t10942909\t.\t-\t.\tgene_id \"AT1G30814\"; transcript_id \"AT1G30814.2\"; gene_name \"AT1G30814\"; gene_source \"araport11\"; gene_biotype \"protein_coding\"; transcript_name \"AT1G30814-204\"; transcript_source \"araport11\"; transcript_biotype \"protein_coding\";\n",
      "1\taraport11\tthree_prime_utr\t10942648\t10942825\t.\t-\t.\tgene_id \"AT1G30814\"; transcript_id \"AT1G30814.3\"; gene_name \"AT1G30814\"; gene_source \"araport11\"; gene_biotype \"protein_coding\"; transcript_name \"AT1G30814-201\"; transcript_source \"araport11\"; transcript_biotype \"protein_coding\";\n",
      "1\taraport11\tthree_prime_utr\t29677904\t29678284\t.\t-\t.\tgene_id \"AT1G78930\"; transcript_id \"AT1G78930.1\"; gene_name \"AT1G78930\"; gene_source \"araport11\"; gene_biotype \"protein_coding\"; transcript_name \"AT1G78930-201\"; transcript_source \"araport11\"; transcript_biotype \"protein_coding\"; tag \"Ensembl_canonical\";\n",
      "1\taraport11\tthree_prime_utr\t26966558\t26966688\t.\t+\t.\tgene_id \"AT1G71695\"; transcript_id \"AT1G71695.1\"; gene_name \"AT1G71695\"; gene_source \"araport11\"; gene_biotype \"protein_coding\"; transcript_name \"AT1G71695-201\"; transcript_source \"araport11\"; transcript_biotype \"protein_coding\"; tag \"Ensembl_canonical\";\n",
      "1\taraport11\tthree_prime_utr\t21805932\t21806278\t.\t-\t.\tgene_id \"AT1G58983\"; transcript_id \"AT1G58983.1\"; gene_name \"AT1G58983\"; gene_source \"araport11\"; gene_biotype \"protein_coding\"; transcript_name \"AT1G58983-201\"; transcript_source \"araport11\"; transcript_biotype \"protein_coding\"; tag \"Ensembl_canonical\";\n",
      "1\taraport11\tthree_prime_utr\t4430778\t4430965\t.\t+\t.\tgene_id \"AT1G12980\"; transcript_id \"AT1G12980.1\"; gene_name \"ESR1\"; gene_source \"araport11\"; gene_biotype \"protein_coding\"; transcript_name \"ESR1-201\"; transcript_source \"araport11\"; transcript_biotype \"protein_coding\"; tag \"Ensembl_canonical\";\n",
      "1\taraport11\tthree_prime_utr\t17141620\t17141771\t.\t+\t.\tgene_id \"AT1G45223\"; transcript_id \"AT1G45223.1\"; gene_name \"AT1G45223\"; gene_source \"araport11\"; gene_biotype \"protein_coding\"; transcript_name \"AT1G45223-201\"; transcript_source \"araport11\"; transcript_biotype \"protein_coding\"; tag \"Ensembl_canonical\";\n"
     ]
    }
   ],
   "source": [
    "%%bash\n",
    "grep -v '#!\\|##' Arabidopsis_thaliana.TAIR10.56.gtf | grep 'three_prime_utr' > GTF_three_prime_utr.txt\n",
    "head GTF_three_prime_utr.txt"
   ]
  },
  {
   "attachments": {},
   "cell_type": "markdown",
   "metadata": {},
   "source": [
    "Como se puede apreciar en la columna 9 vienen varios parametros, por lo que se van a separar en diferentes columnas con el siguiente comando:"
   ]
  },
  {
   "cell_type": "code",
   "execution_count": 25,
   "metadata": {},
   "outputs": [
    {
     "name": "stdout",
     "output_type": "stream",
     "text": [
      "chr1\taraport11\tthree_prime_utr\t10942648\t10942825\t.\t-\t.\tAT1G30814\tAT1G30814.1\tAT1G30814\tAT1G30814-203\n",
      "chr1\taraport11\tthree_prime_utr\t10942648\t10942825\t.\t-\t.\tAT1G30814\tAT1G30814.4\tAT1G30814\tAT1G30814-202\n",
      "chr1\taraport11\tthree_prime_utr\t10943007\t10943138\t.\t-\t.\tAT1G30814\tAT1G30814.2\tAT1G30814\tAT1G30814-204\n",
      "chr1\taraport11\tthree_prime_utr\t10942663\t10942909\t.\t-\t.\tAT1G30814\tAT1G30814.2\tAT1G30814\tAT1G30814-204\n",
      "chr1\taraport11\tthree_prime_utr\t10942648\t10942825\t.\t-\t.\tAT1G30814\tAT1G30814.3\tAT1G30814\tAT1G30814-201\n",
      "chr1\taraport11\tthree_prime_utr\t29677904\t29678284\t.\t-\t.\tAT1G78930\tAT1G78930.1\tAT1G78930\tAT1G78930-201\n",
      "chr1\taraport11\tthree_prime_utr\t26966558\t26966688\t.\t+\t.\tAT1G71695\tAT1G71695.1\tAT1G71695\tAT1G71695-201\n",
      "chr1\taraport11\tthree_prime_utr\t21805932\t21806278\t.\t-\t.\tAT1G58983\tAT1G58983.1\tAT1G58983\tAT1G58983-201\n",
      "chr1\taraport11\tthree_prime_utr\t4430778\t4430965\t.\t+\t.\tAT1G12980\tAT1G12980.1\tESR1\tESR1-201\n",
      "chr1\taraport11\tthree_prime_utr\t17141620\t17141771\t.\t+\t.\tAT1G45223\tAT1G45223.1\tAT1G45223\tAT1G45223-201\n"
     ]
    }
   ],
   "source": [
    "%%bash\n",
    "awk -F'\\t' 'BEGIN{OFS=\"\\t\"} {gsub(/\"/, \"\", $9); split($9, arr, \"; \"); print $1, $2, $3, $4, $5, $6, $7, $8, arr[1], arr[2], arr[3], arr[6]}' GTF_three_prime_utr.txt | sed -e 's/gene_id //g' -e 's/transcript_id //g' -e 's/gene_name //g' -e 's/transcript_name //g'|awk -F'\\t' 'BEGIN{OFS=\"\\t\"} {$1 = \"chr\" $1; print}'> GTF_three_prime_utr_final.txt\n",
    "head GTF_three_prime_utr_final.txt"
   ]
  },
  {
   "attachments": {},
   "cell_type": "markdown",
   "metadata": {},
   "source": [
    "Recordando que la columna 9 es **gene_id**, 10 es **transcript_id**, 11 es **gene_name** y 12 **transcript_name**"
   ]
  },
  {
   "attachments": {},
   "cell_type": "markdown",
   "metadata": {
    "tags": []
   },
   "source": [
    "Teniendo estos dos archivos  \n",
    "*TAIR10_3_utr_20101028_encabezados.txt*  \n",
    "&  \n",
    "*GTF_three_prime_utr_final.txt*  \n",
    "  \n",
    "Se va a llevar la comparacion linea por linea del fasta con el archivo del GTF para generar el archivo con las siguientes caracteristicas:\n",
    "\n",
    "<table>\n",
    "  <thead>\n",
    "    <tr style=\"background-color: Turquoise; color: black;\">\n",
    "      <th>COL1</th>\n",
    "      <th>COL2</th>\n",
    "      <th>COL3</th>\n",
    "      <th>COL4</th>\n",
    "      <th>COL5</th>\n",
    "      <th>COL6</th>\n",
    "      <th>COL7</th>\n",
    "      <th>COL8</th>\n",
    "      <th>COL9</th>\n",
    "      <th>COL10</th>\n",
    "      <th>COL11</th>\n",
    "      <th>COL12</th>\n",
    "    </tr>\n",
    "  <thead>\n",
    "    <tr style=\"background-color: Aquamarine; color: black;\">\n",
    "      <th>Trancript_id</th>\n",
    "      <th>Type</th>\n",
    "      <th>Localization</th>\n",
    "      <th>Chromosome</th>\n",
    "      <th>Start</th>\n",
    "      <th>End</th>\n",
    "      <th>Strand</th>\n",
    "      <th>Exon</th>\n",
    "      <th>Gene_name</th>\n",
    "      <th>Gene_id</th>\n",
    "      <th>Gene_id2</th>\n",
    "      <th>Length</th>\n",
    "    </tr>\n",
    "    <tr style=\"background-color: Aquamarine; color: black;\">\n",
    "      <th>COL1 -> TAIR10_3_utr</th>\n",
    "      <th>COL3 -> GTF_three_prime</th>\n",
    "      <th>COL2 -> TAIR10_3_utr</th>\n",
    "      <th>COL1 -> GTF_three_prime</th>\n",
    "      <th>COL4 -> GTF_three_prime</th>\n",
    "      <th>COL5 -> GTF_three_prime</th>\n",
    "      <th>COL7-> GTF_three_prime</th>\n",
    "      <th>COL6 -> GTF_three_prime</th>\n",
    "      <th>COL11 -> GTF_three_prime</th>\n",
    "      <th>COL9 -> GTF_three_prime_utr</th>\n",
    "      <th>COL9 -> GTF_three_prime_utr</th>\n",
    "      <th>COL4 -> TAIR10_3_utr</th>\n",
    "    </tr> \n",
    "       \n"
   ]
  },
  {
   "attachments": {},
   "cell_type": "markdown",
   "metadata": {},
   "source": [
    "Teniendo el contenido de la tabla se ejecuta el siguiente comando para generar el archivo 3' UTR:"
   ]
  },
  {
   "cell_type": "code",
   "execution_count": 26,
   "metadata": {},
   "outputs": [
    {
     "name": "stdout",
     "output_type": "stream",
     "text": [
      "AT1G30814.1 three_prime_utr chr1:10942648-10942825 chr1 10942648 10942825 - . AT1G30814 AT1G30814 AT1G30814 178\n",
      "AT1G30814.2 three_prime_utr chr1:10942663-10943138 chr1 10943007 10943138 - . AT1G30814 AT1G30814 AT1G30814 379\n",
      "AT1G30814.2 three_prime_utr chr1:10942663-10943138 chr1 10942663 10942909 - . AT1G30814 AT1G30814 AT1G30814 379\n",
      "AT1G30814.3 three_prime_utr chr1:10942648-10942825 chr1 10942648 10942825 - . AT1G30814 AT1G30814 AT1G30814 178\n",
      "AT1G78930.1 three_prime_utr chr1:29678097-29678284 chr1 29677904 29678284 - . AT1G78930 AT1G78930 AT1G78930 188\n",
      "AT1G71695.1 three_prime_utr chr1:26966558-26966688 chr1 26966558 26966688 + . AT1G71695 AT1G71695 AT1G71695 131\n",
      "AT1G58983.1 three_prime_utr chr1:21806020-21806278 chr1 21805932 21806278 - . AT1G58983 AT1G58983 AT1G58983 259\n",
      "AT1G12980.1 three_prime_utr chr1:4430778-4430965 chr1 4430778 4430965 + . ESR1 AT1G12980 AT1G12980 188\n",
      "AT1G45223.1 three_prime_utr chr1:17141620-17141771 chr1 17141620 17141771 + . AT1G45223 AT1G45223 AT1G45223 152\n",
      "AT1G56250.1 three_prime_utr chr1:21061600-21061745 chr1 21061522 21061745 - . PP2-B14 AT1G56250 AT1G56250 146\n"
     ]
    }
   ],
   "source": [
    "%%bash\n",
    "awk 'NR==FNR{a[$1]=$0; next} $10 in a{split(a[$10], arr, \" \"); print arr[1], $3, arr[2], $1, $4, $5, $7, $6, $11, $9, $9, arr[4]}' TAIR10_3_utr_20101028_encabezados.txt GTF_three_prime_utr_final.txt | head"
   ]
  },
  {
   "attachments": {},
   "cell_type": "markdown",
   "metadata": {},
   "source": [
    "Se ve bien, ahora lo unico que me queda es guardar el archivo."
   ]
  },
  {
   "cell_type": "code",
   "execution_count": 27,
   "metadata": {},
   "outputs": [],
   "source": [
    "%%bash\n",
    "awk 'NR==FNR{a[$1]=$0; next} $10 in a{split(a[$10], arr, \" \"); print arr[1], $3, arr[2], $1, $4, $5, $7, $6, $11, $9, $9, arr[4]}' TAIR10_3_utr_20101028_encabezados.txt GTF_three_prime_utr_final.txt > ../coords_dict/TAIR10_3_UTR.coords.dict"
   ]
  }
 ],
 "metadata": {
  "kernelspec": {
   "display_name": "Python 3 (ipykernel)",
   "language": "python",
   "name": "python3"
  },
  "language_info": {
   "codemirror_mode": {
    "name": "ipython",
    "version": 3
   },
   "file_extension": ".py",
   "mimetype": "text/x-python",
   "name": "python",
   "nbconvert_exporter": "python",
   "pygments_lexer": "ipython3",
   "version": "3.8.5"
  },
  "orig_nbformat": 4
 },
 "nbformat": 4,
 "nbformat_minor": 2
}

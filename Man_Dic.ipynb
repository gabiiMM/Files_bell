{
 "cells": [
  {
   "attachments": {},
   "cell_type": "markdown",
   "metadata": {},
   "source": [
    "# En este Notebook se encuentran los pasos necesarios para crear los diccionarios y fastas de los transcritos del pipeline de Bell, para A. thaliana."
   ]
  },
  {
   "attachments": {},
   "cell_type": "markdown",
   "metadata": {},
   "source": [
    "Solo es necesario tener los siguientes archivos:  \n",
    "Araport11_GTF_genes_transposons.current.gtf **(ARAPORT11)**  \n",
    "Araport11_upstream_3000_20220914.gz **(ARAPORT11)**  \n",
    "Araport11_downstream_3000_20220914.gz **(ARAPORT11)**  \n",
    "Araport11_intergenic_20220914.gz **(ARAPORT11)**  \n",
    "Araport11_intron_20220914.gz **(ARAPORT11)**  \n",
    "LncRNA_Anotacion_Lab.tsv **(FIGSHARE, lab)**"
   ]
  },
  {
   "attachments": {},
   "cell_type": "markdown",
   "metadata": {},
   "source": [
    "**TAIR10.1**  \n",
    "wget --no-check-certificate \"https://ftp.ncbi.nlm.nih.gov/genomes/all/GCF/000/001/735/GCF_000001735.4_TAIR10.1/GCF_000001735.4_TAIR10.1_genomic.fna.gz\"   \n",
    "**ARAPORT11 GTF**    \n",
    "wget --no-check-certificate \"https://www.arabidopsis.org/download_files/Genes/Araport11_genome_release/Araport11_GFF3_genes_transposons.201606.gff.gz\"  \n",
    "**downstream_3000**  \n",
    "wget --no-check-certificate \"https://www.arabidopsis.org/download_files/Sequences/Araport11_blastsets/Araport11_downstream_3000_20220914.gz\"  \n",
    "**upstream_3000**  \n",
    "wget --no-check-certificate \"https://www.arabidopsis.org/download_files/Sequences/Araport11_blastsets/Araport11_upstream_3000_20220914.gz\"  \n",
    "**intergenic**  \n",
    "wget --no-check-certificate \"https://www.arabidopsis.org/download_files/Sequences/Araport11_blastsets/Araport11_intergenic_20220914.gz\"  \n",
    "**intron**  \n",
    "wget --no-check-certificate \"https://www.arabidopsis.org/download_files/Sequences/Araport11_blastsets/Araport11_intron_20220914.gz\"  \n",
    "**LncRNA**  \n",
    "wget --no-check-certificate \"https://figshare.com/ndownloader/files/36181233?private_link=5d19c00590cbd7fe73a1\"\n"
   ]
  },
  {
   "attachments": {},
   "cell_type": "markdown",
   "metadata": {},
   "source": [
    "Si se tiene alguna duda se puede consultar el notebook \"Archivos_dic.ipynb\"."
   ]
  },
  {
   "attachments": {},
   "cell_type": "markdown",
   "metadata": {},
   "source": [
    "Del GTF se van a generar los diccionarios de los siguientes transcritos:  \n",
    "**three_prime_UTR**  \n",
    "**five_prime_UTR**  \n",
    "**exon**    \n",
    "**miRNA**  \n",
    "**mRNA**  \n",
    "**ncRNA**  \n",
    "**rRNA**  \n",
    "**snoRNA**  \n",
    "**snRNA**  \n",
    "**tRNA**  \n",
    "**gene**"
   ]
  },
  {
   "attachments": {},
   "cell_type": "markdown",
   "metadata": {},
   "source": [
    "loop para crear todos los diccionarios del GTF."
   ]
  },
  {
   "cell_type": "code",
   "execution_count": 1,
   "metadata": {},
   "outputs": [],
   "source": [
    "%%bash\n",
    "cd ../Dict\n",
    "#for PRO in three_prime_UTR five_prime_UTR exon lnc_RNA miRNA mRNA ncRNA rRNA snoRNA snRNA tRNA; do awk -F'\\t' -v PRO=\"$PRO\" 'BEGIN{OFS=\"\\t\"} $3==PRO {gsub(/\"/, \"\", $9);split($9, arr, \"; \"); col1=arr[1]; col2=$3; col3=$1\":\"$4\"..\"$5; col4=$1; col5=$4; col6=$5; col7=$7; col8=\".\"; col9=arr[2]; col10=arr[2]; col11=arr[2]; col12=($4>$5)?($4-$5):($5-$4); if (col7 == \"+\") { print col1, col2, col3, col4, col5, col6, col7, col8, col9, col10, col11, col12 } else { print col1, col2, col3, col4, col6, col5, col7, col8, col9, col10, col11, col12 }}' Araport11_GTF_genes_transposons.current.gtf | sed -e 's/;//g' -e 's/transcript_id//g' -e 's/gene_id//g' | awk '{$1=$1};1' OFS='\\t'| head -n 5; done\n",
    "### Ver si los print son correctos\n",
    "#for PRO in three_prime_UTR five_prime_UTR exon miRNA mRNA ncRNA rRNA snoRNA snRNA tRNA; do awk -F'\\t' -v PRO=\"$PRO\" 'BEGIN{OFS=\"\\t\"} $3==PRO {gsub(/\"/, \"\", $9);split($9, arr, \"; \"); col1=arr[1]; col2=$3; col3=$1\":\"$4\"..\"$5; col4=$1; col5=$4; col6=$5; col7=$7; col8=\".\"; col9=arr[2]; col10=arr[2]; col11=arr[2]; col12=($4>$5)?($4-$5):($5-$4); if (col7 == \"+\") { print col1, col2, col3, col4, col5, col6, col7, col8, col9, col10, col11, col12 } else { print col1, col2, col3, col4, col6, col5, col7, col8, col9, col10, col11, col12 }}' Araport11_GTF_genes_transposons.current.gtf | sed -e 's/;//g' -e 's/transcript_id//g' -e 's/gene_id//g' | awk '{$1=$1};1' OFS='\\t' > ../DMEL_COORDS/\"$PRO.coords.dict\"; done\n",
    "### El comando superior le faltaba ver si las anotaciones tenian un tamaño mayor a 0.\n",
    " for PRO in three_prime_UTR five_prime_UTR exon gene miRNA mRNA ncRNA rRNA snoRNA snRNA tRNA; do awk -F'\\t' -v PRO=\"$PRO\" 'BEGIN{OFS=\"\\t\"} $3==PRO && $4!=$5 { gsub(/\"/, \"\", $9); split($9, arr, \"; \"); col1=arr[1]; col2=$3; col3=$1\":\"$4\"..\"$5; col4=$1; col5=$4; col6=$5; col7=$7; col8=\".\"; col9=arr[2]; col10=arr[2]; col11=arr[2]; col12=($4>$5)?($4-$5):($5-$4); if (col7 == \"+\") { print col1, col2, col3, col4, col5, col6, col7, col8, col9, col10, col11, col12 } else { print col1, col2, col3, col4, col6, col5, col7, col8, col9, col10, col11, col12 }}' Araport11_GTF_genes_transposons.current.gtf | sed -e 's/;//g' -e 's/transcript_id//g' -e 's/gene_id//g' | awk '{$1=$1};1' OFS='\\t' > ../DMEL_COORDS/\"$PRO.coords.dict\"; done"
   ]
  },
  {
   "attachments": {},
   "cell_type": "markdown",
   "metadata": {},
   "source": [
    "De los archivos descargados de ARAPORT11 se van a generar los siguientes transcritos:  \n",
    "**upstream_3000**  \n",
    "**downstream_3000**  \n",
    "**intergenic**  \n",
    "**intron**"
   ]
  },
  {
   "attachments": {},
   "cell_type": "markdown",
   "metadata": {},
   "source": [
    "**upstream_3000**"
   ]
  },
  {
   "cell_type": "code",
   "execution_count": 2,
   "metadata": {},
   "outputs": [],
   "source": [
    "%%bash\n",
    "cd ../Dict\n",
    "grep '>' Araport11_upstream_3000_2022091.fasta | sed -e 's/|//g' -e 's/>//g' -e 's/LENGTH=//g' | awk '{ gsub(\"FORWARD\", \"+\"); gsub(\"REVERSE\", \"-\"); gsub(\"-\", \"..\", $2); col3 = substr($2, index($2,\":\")+1, index($2,\"..\")-index($2,\":\")-1); col4 = substr($2, index($2,\"..\")+2); print $1, substr($2, 1, index($2, \":\")-1), col3, col4, $2, $3, $4 }' OFS='\\t' | awk -v OFS='\\t' '{ if ($6 == \"-\") { temp = $5; $5 = $6; $6 = temp; print $1, \"upstream_3000\", $6, $2, $3, $4, $5, \".\", $1, $1, $1, $7 } else { print $1, \"upstream_3000\", $5, $2, $3, $4, $6, \".\", $1, $1, $1, $7 } }' | awk -F'\\t' 'BEGIN{OFS=\"\\t\"} { if ($7 == \"-\") { temp = $5; $5 = $6; $6 = temp } print $1, $2, $3, $4, $5, $6, $7, $8, $9, $10, $11, $12 }' > ../DMEL_COORDS/upstream_3000.coords.dict \n"
   ]
  },
  {
   "attachments": {},
   "cell_type": "markdown",
   "metadata": {},
   "source": [
    "**downstream_3000**"
   ]
  },
  {
   "cell_type": "code",
   "execution_count": 3,
   "metadata": {},
   "outputs": [],
   "source": [
    "%%bash\n",
    "cd ../Dict\n",
    "grep '>' Araport11_downstream_3000_2022091.fasta | sed -e 's/|//g' -e 's/>//g' -e 's/LENGTH=//g' | awk '{ gsub(\"FORWARD\", \"+\"); gsub(\"REVERSE\", \"-\"); gsub(\"-\", \"..\", $2); col3 = substr($2, index($2,\":\")+1, index($2,\"..\")-index($2,\":\")-1); col4 = substr($2, index($2,\"..\")+2); print $1, substr($2, 1, index($2, \":\")-1), col3, col4, $2, $3, $4 }' OFS='\\t' | awk -v OFS='\\t' '{ if ($6 == \"-\") { temp = $5; $5 = $6; $6 = temp; print $1, \"downstream_3000\", $6, $2, $3, $4, $5, \".\", $1, $1, $1, $7 } else { print $1, \"downstream_3000\", $5, $2, $3, $4, $6, \".\", $1, $1, $1, $7 } }' | awk -F'\\t' 'BEGIN{OFS=\"\\t\"} { if ($7 == \"-\") { temp = $5; $5 = $6; $6 = temp } print $1, $2, $3, $4, $5, $6, $7, $8, $9, $10, $11, $12 }' > ../DMEL_COORDS/downstream_3000.coords.dict"
   ]
  },
  {
   "attachments": {},
   "cell_type": "markdown",
   "metadata": {},
   "source": [
    "**intron**"
   ]
  },
  {
   "cell_type": "code",
   "execution_count": 4,
   "metadata": {},
   "outputs": [],
   "source": [
    "%%bash\n",
    "cd ../Dict\n",
    "grep '>' Araport11_intron_2022091.fasta | sed -e 's/|//g' -e 's/>//g' -e 's/LENGTH=//g' | awk '{$1=$1};1' OFS='\\t'|cut -f1,3,4,5| awk '{ gsub(\"FORWARD\", \"+\"); gsub(\"REVERSE\", \"-\"); gsub(\"-\", \"..\", $2); col3 = substr($2, index($2,\":\")+1, index($2,\"..\")-index($2,\":\")-1); col4 = substr($2, index($2,\"..\")+2); print $1, substr($2, 1, index($2, \":\")-1), col3, col4, $2, $3, $4 }' OFS='\\t' | awk -v OFS='\\t' '{ if ($6 == \"-\") { temp = $5; $5 = $6; $6 = temp; print $1, \"intron\", $6, $2, $3, $4, $5, \".\", $1, $1, $1, $7 } else { print $1, \"intron\", $5, $2, $3, $4, $6, \".\", $1, $1, $1, $7 } }' | awk -F'\\t' 'BEGIN{OFS=\"\\t\"} { if ($7 == \"-\") { temp = $5; $5 = $6; $6 = temp } print $1, $2, $3, $4, $5, $6, $7, $8, $9, $10, $11, $12 }' > ../DMEL_COORDS/intron.coords.dict"
   ]
  },
  {
   "attachments": {},
   "cell_type": "markdown",
   "metadata": {},
   "source": [
    "**intergenic**"
   ]
  },
  {
   "cell_type": "code",
   "execution_count": 5,
   "metadata": {},
   "outputs": [],
   "source": [
    "%%bash\n",
    "cd ../Dict\n",
    "grep '>' Araport11_intergenic_2022091.fasta | sed -e 's/|//g' -e 's/>//g' -e 's/LENGTH=//g' | awk '{ gsub(\"FORWARD\", \"+\"); gsub(\"REVERSE\", \"-\"); gsub(\"-\", \"..\", $2); col3 = substr($2, index($2,\":\")+1, index($2,\"..\")-index($2,\":\")-1); col4 = substr($2, index($2,\"..\")+2); print $1, substr($2, 1, index($2, \":\")-1), col3, col4, $2, $3, $4 }' OFS='\\t' | awk -v OFS='\\t' '{ if ($6 == \"-\") { temp = $5; $5 = $6; $6 = temp; print $1, \"intergenic\", $6, $2, $3, $4, $5, \".\", $1, $1, $1, $7 } else { print $1, \"intergenic\", $5, $2, $3, $4, $6, \".\", $1, $1, $1, $7 } }' | awk -F'\\t' 'BEGIN{OFS=\"\\t\"} { if ($7 == \"-\") { temp = $5; $5 = $6; $6 = temp } print $1, $2, $3, $4, $5, $6, $7, $8, $9, $10, $11, $12 }' > ../DMEL_COORDS/intergenic.coords.dict\n"
   ]
  },
  {
   "attachments": {},
   "cell_type": "markdown",
   "metadata": {},
   "source": [
    "Del archivo descargado de figshare, se generara el diccionario para los lncRNA"
   ]
  },
  {
   "attachments": {},
   "cell_type": "markdown",
   "metadata": {},
   "source": [
    "**LncRNA**"
   ]
  },
  {
   "cell_type": "code",
   "execution_count": 6,
   "metadata": {},
   "outputs": [],
   "source": [
    "%%bash\n",
    "cd ../Dict\n",
    "cut -f1,2,3,4,5,7,17 LncRNA_Anotacion_Lab.tsv|awk 'NR > 1'|awk -v OFS='\\t' '{print $4, $7, $1\":\"$2\"..\"$3, $1, $2, $3, $6, \".\", $5, $5, $5, ($2>$3)?($2-$3):($3-$2)}'|awk -F'\\t' 'BEGIN{OFS=\"\\t\"} { if ($7 == \"-\") { temp = $5; $5 = $6; $6 = temp } print $1, $2, $3, $4, $5, $6, $7, $8, $9, $10, $11, $12 }' > ../DMEL_COORDS/lncRNA.coords.dict \n"
   ]
  },
  {
   "attachments": {},
   "cell_type": "markdown",
   "metadata": {},
   "source": [
    "## FASTA"
   ]
  },
  {
   "attachments": {},
   "cell_type": "markdown",
   "metadata": {},
   "source": [
    "Generar los archivos .bed del GTF"
   ]
  },
  {
   "cell_type": "code",
   "execution_count": 2,
   "metadata": {},
   "outputs": [],
   "source": [
    "%%bash\n",
    "cd ../Dict\n",
    "for PRO in three_prime_UTR five_prime_UTR exon gene miRNA mRNA ncRNA rRNA snoRNA snRNA tRNA; do awk -F'\\t' -v PRO=\"$PRO\" 'BEGIN{OFS=\"\\t\"} $3==PRO' Araport11_GTF_genes_transposons.current.gtf | cut -f1,4,5,7,8,9 | awk -F'\\t' -v OFS='\\t' '{print $1, $2, $3, $6, $5, $4}' > \"BED_FILES/${PRO}_Araport11.bed\"; done"
   ]
  },
  {
   "attachments": {},
   "cell_type": "markdown",
   "metadata": {},
   "source": [
    "Generar los .fasta del GTF"
   ]
  },
  {
   "cell_type": "code",
   "execution_count": 3,
   "metadata": {},
   "outputs": [],
   "source": [
    "%%capture\n",
    "%%bash\n",
    "cd ../Dict/BED_FILES #(añadir -s BLAT EN UCSC, NO TOMAR EN CUENTA LOS LNC DE ARAPORT) PRIORIDAD VER LA MUESTRA CON EL PIPE DE BELL....\n",
    "for PRO in *.bed; do bedtools getfasta -fi ../TAIR10_chr_all.fas -bed \"$PRO\" -s -name -fo \"${PRO%.bed}.fasta\"; done"
   ]
  },
  {
   "cell_type": "code",
   "execution_count": 4,
   "metadata": {},
   "outputs": [],
   "source": [
    "%%capture\n",
    "%%bash\n",
    "cd ../Dict/BED_FILES\n",
    "mv *.fasta ../../FASTA_TRA"
   ]
  },
  {
   "cell_type": "code",
   "execution_count": 12,
   "metadata": {},
   "outputs": [],
   "source": [
    "%%bash\n",
    "cd ../Dict\n",
    "cp  Araport11_upstream_3000_2022091.fasta Araport11_intergenic_2022091.fasta Araport11_intron_2022091.fasta Araport11_downstream_3000_2022091.fasta ../FASTA_TRA"
   ]
  },
  {
   "attachments": {},
   "cell_type": "markdown",
   "metadata": {},
   "source": [
    "Ya se tienen los fasta de Araport11, por lo que solo falta generar el tsv de los lncRNA."
   ]
  },
  {
   "attachments": {},
   "cell_type": "markdown",
   "metadata": {},
   "source": [
    "Bed del LncRNA."
   ]
  },
  {
   "cell_type": "code",
   "execution_count": 13,
   "metadata": {},
   "outputs": [],
   "source": [
    "%%bash\n",
    "cd ../Dict\n",
    "cut -f1,2,3,4,5,7 LncRNA_Anotacion_Lab.tsv|awk 'NR > 1'|awk -v OFS='\\t' '{print $1, $2, $3, \"Transcript_ID; \"$4\";\" \"Gene_ID; \"$5, \".\", $6}'> BED_FILES/LncRNA_Anotacion_Lab.bed"
   ]
  },
  {
   "attachments": {},
   "cell_type": "markdown",
   "metadata": {},
   "source": [
    "Fasta del LncRNA."
   ]
  },
  {
   "cell_type": "code",
   "execution_count": 14,
   "metadata": {},
   "outputs": [],
   "source": [
    "%%capture\n",
    "%%bash\n",
    "cd ../Dict/BED_FILES\n",
    "bedtools getfasta -fi ../TAIR10_chr_all.fas -bed LncRNA_Anotacion_Lab.bed -s -name -fo LncRNA_Anotacion_Lab.fasta"
   ]
  },
  {
   "cell_type": "code",
   "execution_count": 15,
   "metadata": {},
   "outputs": [],
   "source": [
    "%%capture\n",
    "%%bash\n",
    "cd ../Dict/BED_FILES\n",
    "mv LncRNA_Anotacion_Lab.fasta ../../FASTA_TRA"
   ]
  }
 ],
 "metadata": {
  "kernelspec": {
   "display_name": "base",
   "language": "python",
   "name": "python3"
  },
  "language_info": {
   "codemirror_mode": {
    "name": "ipython",
    "version": 3
   },
   "file_extension": ".py",
   "mimetype": "text/x-python",
   "name": "python",
   "nbconvert_exporter": "python",
   "pygments_lexer": "ipython3",
   "version": "3.8.5"
  },
  "orig_nbformat": 4
 },
 "nbformat": 4,
 "nbformat_minor": 2
}

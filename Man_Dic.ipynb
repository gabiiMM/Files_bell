{
 "cells": [
  {
   "attachments": {},
   "cell_type": "markdown",
   "metadata": {},
   "source": [
    "# En este Notebook se encuentran los pasos necesarios para crear los diccionarios de los transcritos del pipeline de Bell, para A. thaliana."
   ]
  },
  {
   "attachments": {},
   "cell_type": "markdown",
   "metadata": {},
   "source": [
    "Solo es necesario tener los siguientes archivos:  \n",
    "Araport11_GTF_genes_transposons.current.gtf **(ARAPORT11)**  \n",
    "Araport11_upstream_3000_20220914.gz **(ARAPORT11)**  \n",
    "Araport11_downstream_3000_20220914.gz **(ARAPORT11)**  \n",
    "Araport11_intergenic_20220914.gz **(ARAPORT11)**  \n",
    "Araport11_intron_20220914.gz **(ARAPORT11)**  \n",
    "LncRNA_Anotacion_Lab.tsv **(FIGSHARE, lab)**"
   ]
  },
  {
   "attachments": {},
   "cell_type": "markdown",
   "metadata": {},
   "source": [
    "Si se tiene alguna duda se puede consultar el notebook \"Archivos_dic.ipynb\"."
   ]
  },
  {
   "attachments": {},
   "cell_type": "markdown",
   "metadata": {},
   "source": [
    "Del GTF se van a generar los diccionarios de los siguientes transcritos:  \n",
    "**three_prime_UTR**  \n",
    "**five_prime_UTR**  \n",
    "**exon**  \n",
    "**lnc_RNA**  \n",
    "**miRNA**  \n",
    "**mRNA**  \n",
    "**ncRNA**  \n",
    "**rRNA**  \n",
    "**snoRNA**  \n",
    "**snRNA**  \n",
    "**tRNA**  "
   ]
  },
  {
   "attachments": {},
   "cell_type": "markdown",
   "metadata": {},
   "source": [
    "**5' UTR**"
   ]
  },
  {
   "cell_type": "code",
   "execution_count": 1,
   "metadata": {},
   "outputs": [],
   "source": [
    "%%bash\n",
    "cd ../Dict\n",
    "awk -F'\\t' 'BEGIN{OFS=\"\\t\"} $3==\"five_prime_UTR\" {gsub(/\"/, \"\", $9);split($9, arr, \"; \"); col1=arr[1]; col2=$3; col3=$1\":\"$4\"..\"$5; col4=$1; col5=$4; col6=$5; col7=$7; col8=\".\"; col9=arr[2]; col10=arr[2]; col11=arr[2]; col12=($4>$5)?($4-$5):($5-$4); if (col7 == \"+\") { print col1, col2, col3, col4, col5, col6, col7, col8, col9, col10, col11, col12 } else { print col1, col2, col3, col4, col6, col5, col7, col8, col9, col10, col11, col12 }}' *.gtf | sed -e 's/;//g' -e 's/transcript_id//g' -e 's/gene_id//g' | awk '{$1=$1};1' OFS='\\t' > ../DMEL_COORDS/5_UTR.coords.dict\n"
   ]
  },
  {
   "attachments": {},
   "cell_type": "markdown",
   "metadata": {},
   "source": [
    "**3' UTR**"
   ]
  },
  {
   "cell_type": "code",
   "execution_count": 2,
   "metadata": {},
   "outputs": [],
   "source": [
    "%%bash\n",
    "cd ../Dict\n",
    "awk -F'\\t' 'BEGIN{OFS=\"\\t\"} $3==\"three_prime_UTR\" {gsub(/\"/, \"\", $9);split($9, arr, \"; \"); col1=arr[1]; col2=$3; col3=$1\":\"$4\"..\"$5; col4=$1; col5=$4; col6=$5; col7=$7; col8=\".\"; col9=arr[2]; col10=arr[2]; col11=arr[2]; col12=($4>$5)?($4-$5):($5-$4); if (col7 == \"+\") { print col1, col2, col3, col4, col5, col6, col7, col8, col9, col10, col11, col12 } else { print col1, col2, col3, col4, col6, col5, col7, col8, col9, col10, col11, col12 }}' *.gtf | sed -e 's/;//g' -e 's/transcript_id//g' -e 's/gene_id//g' | awk '{$1=$1};1' OFS='\\t' > ../DMEL_COORDS/3_UTR.coords.dict\n"
   ]
  },
  {
   "attachments": {},
   "cell_type": "markdown",
   "metadata": {},
   "source": [
    "**exon**"
   ]
  },
  {
   "cell_type": "code",
   "execution_count": 3,
   "metadata": {},
   "outputs": [],
   "source": [
    "%%bash\n",
    "cd ../Dict\n",
    "awk -F'\\t' 'BEGIN{OFS=\"\\t\"} $3==\"exon\" {gsub(/\"/, \"\", $9);split($9, arr, \"; \"); col1=arr[1]; col2=$3; col3=$1\":\"$4\"..\"$5; col4=$1; col5=$4; col6=$5; col7=$7; col8=\".\"; col9=arr[2]; col10=arr[2]; col11=arr[2]; col12=($4>$5)?($4-$5):($5-$4); if (col7 == \"+\") { print col1, col2, col3, col4, col5, col6, col7, col8, col9, col10, col11, col12 } else { print col1, col2, col3, col4, col6, col5, col7, col8, col9, col10, col11, col12 }}' *.gtf | sed -e 's/;//g' -e 's/transcript_id//g' -e 's/gene_id//g' | awk '{$1=$1};1' OFS='\\t' > ../DMEL_COORDS/exon.coords.dict\n"
   ]
  },
  {
   "attachments": {},
   "cell_type": "markdown",
   "metadata": {},
   "source": [
    "**miRNA**"
   ]
  },
  {
   "cell_type": "code",
   "execution_count": 4,
   "metadata": {},
   "outputs": [],
   "source": [
    "%%bash\n",
    "cd ../Dict\n",
    "awk -F'\\t' 'BEGIN{OFS=\"\\t\"} $3==\"miRNA\" {gsub(/\"/, \"\", $9);split($9, arr, \"; \"); col1=arr[1]; col2=$3; col3=$1\":\"$4\"..\"$5; col4=$1; col5=$4; col6=$5; col7=$7; col8=\".\"; col9=arr[2]; col10=arr[2]; col11=arr[2]; col12=($4>$5)?($4-$5):($5-$4); if (col7 == \"+\") { print col1, col2, col3, col4, col5, col6, col7, col8, col9, col10, col11, col12 } else { print col1, col2, col3, col4, col6, col5, col7, col8, col9, col10, col11, col12 }}' *.gtf | sed -e 's/;//g' -e 's/transcript_id//g' -e 's/gene_id//g' | awk '{$1=$1};1' OFS='\\t' > ../DMEL_COORDS/miRNA.coords.dict\n"
   ]
  },
  {
   "attachments": {},
   "cell_type": "markdown",
   "metadata": {},
   "source": [
    "**mRNA**"
   ]
  },
  {
   "cell_type": "code",
   "execution_count": 5,
   "metadata": {},
   "outputs": [],
   "source": [
    "%%bash\n",
    "cd ../Dict\n",
    "awk -F'\\t' 'BEGIN{OFS=\"\\t\"} $3==\"mRNA\" {gsub(/\"/, \"\", $9);split($9, arr, \"; \"); col1=arr[1]; col2=$3; col3=$1\":\"$4\"..\"$5; col4=$1; col5=$4; col6=$5; col7=$7; col8=\".\"; col9=arr[2]; col10=arr[2]; col11=arr[2]; col12=($4>$5)?($4-$5):($5-$4); if (col7 == \"+\") { print col1, col2, col3, col4, col5, col6, col7, col8, col9, col10, col11, col12 } else { print col1, col2, col3, col4, col6, col5, col7, col8, col9, col10, col11, col12 }}' *.gtf | sed -e 's/;//g' -e 's/transcript_id//g' -e 's/gene_id//g' | awk '{$1=$1};1' OFS='\\t' > ../DMEL_COORDS/mRNA.coords.dict\n"
   ]
  },
  {
   "attachments": {},
   "cell_type": "markdown",
   "metadata": {},
   "source": [
    "**ncRNA**"
   ]
  },
  {
   "cell_type": "code",
   "execution_count": 6,
   "metadata": {},
   "outputs": [],
   "source": [
    "%%bash\n",
    "cd ../Dict\n",
    "awk -F'\\t' 'BEGIN{OFS=\"\\t\"} $3==\"ncRNA\" {gsub(/\"/, \"\", $9);split($9, arr, \"; \"); col1=arr[1]; col2=$3; col3=$1\":\"$4\"..\"$5; col4=$1; col5=$4; col6=$5; col7=$7; col8=\".\"; col9=arr[2]; col10=arr[2]; col11=arr[2]; col12=($4>$5)?($4-$5):($5-$4); if (col7 == \"+\") { print col1, col2, col3, col4, col5, col6, col7, col8, col9, col10, col11, col12 } else { print col1, col2, col3, col4, col6, col5, col7, col8, col9, col10, col11, col12 }}' *.gtf | sed -e 's/;//g' -e 's/transcript_id//g' -e 's/gene_id//g' | awk '{$1=$1};1' OFS='\\t' > ../DMEL_COORDS/ncRNA.coords.dict\n"
   ]
  },
  {
   "attachments": {},
   "cell_type": "markdown",
   "metadata": {},
   "source": [
    "**rRNA**"
   ]
  },
  {
   "cell_type": "code",
   "execution_count": 7,
   "metadata": {},
   "outputs": [],
   "source": [
    "%%bash\n",
    "cd ../Dict\n",
    "awk -F'\\t' 'BEGIN{OFS=\"\\t\"} $3==\"rRNA\" {gsub(/\"/, \"\", $9);split($9, arr, \"; \"); col1=arr[1]; col2=$3; col3=$1\":\"$4\"..\"$5; col4=$1; col5=$4; col6=$5; col7=$7; col8=\".\"; col9=arr[2]; col10=arr[2]; col11=arr[2]; col12=($4>$5)?($4-$5):($5-$4); if (col7 == \"+\") { print col1, col2, col3, col4, col5, col6, col7, col8, col9, col10, col11, col12 } else { print col1, col2, col3, col4, col6, col5, col7, col8, col9, col10, col11, col12 }}' *.gtf | sed -e 's/;//g' -e 's/transcript_id//g' -e 's/gene_id//g' | awk '{$1=$1};1' OFS='\\t' > ../DMEL_COORDS/rRNA.coords.dict\n"
   ]
  },
  {
   "attachments": {},
   "cell_type": "markdown",
   "metadata": {},
   "source": [
    "**snoRNA**"
   ]
  },
  {
   "cell_type": "code",
   "execution_count": 8,
   "metadata": {},
   "outputs": [],
   "source": [
    "%%bash\n",
    "cd ../Dict\n",
    "awk -F'\\t' 'BEGIN{OFS=\"\\t\"} $3==\"snoRNA\" {gsub(/\"/, \"\", $9);split($9, arr, \"; \"); col1=arr[1]; col2=$3; col3=$1\":\"$4\"..\"$5; col4=$1; col5=$4; col6=$5; col7=$7; col8=\".\"; col9=arr[2]; col10=arr[2]; col11=arr[2]; col12=($4>$5)?($4-$5):($5-$4); if (col7 == \"+\") { print col1, col2, col3, col4, col5, col6, col7, col8, col9, col10, col11, col12 } else { print col1, col2, col3, col4, col6, col5, col7, col8, col9, col10, col11, col12 }}' *.gtf | sed -e 's/;//g' -e 's/transcript_id//g' -e 's/gene_id//g' | awk '{$1=$1};1' OFS='\\t' > ../DMEL_COORDS/snoRNA.coords.dict\n"
   ]
  },
  {
   "attachments": {},
   "cell_type": "markdown",
   "metadata": {},
   "source": [
    "**snRNA**"
   ]
  },
  {
   "cell_type": "code",
   "execution_count": 9,
   "metadata": {},
   "outputs": [],
   "source": [
    "%%bash\n",
    "cd ../Dict\n",
    "awk -F'\\t' 'BEGIN{OFS=\"\\t\"} $3==\"snRNA\" {gsub(/\"/, \"\", $9);split($9, arr, \"; \"); col1=arr[1]; col2=$3; col3=$1\":\"$4\"..\"$5; col4=$1; col5=$4; col6=$5; col7=$7; col8=\".\"; col9=arr[2]; col10=arr[2]; col11=arr[2]; col12=($4>$5)?($4-$5):($5-$4); if (col7 == \"+\") { print col1, col2, col3, col4, col5, col6, col7, col8, col9, col10, col11, col12 } else { print col1, col2, col3, col4, col6, col5, col7, col8, col9, col10, col11, col12 }}' *.gtf | sed -e 's/;//g' -e 's/transcript_id//g' -e 's/gene_id//g' | awk '{$1=$1};1' OFS='\\t' > ../DMEL_COORDS/snRNA.coords.dict"
   ]
  },
  {
   "attachments": {},
   "cell_type": "markdown",
   "metadata": {},
   "source": [
    "**tRNA**"
   ]
  },
  {
   "cell_type": "code",
   "execution_count": 10,
   "metadata": {},
   "outputs": [],
   "source": [
    "%%bash\n",
    "cd ../Dict\n",
    "awk -F'\\t' 'BEGIN{OFS=\"\\t\"} $3==\"tRNA\" {gsub(/\"/, \"\", $9);split($9, arr, \"; \"); col1=arr[1]; col2=$3; col3=$1\":\"$4\"..\"$5; col4=$1; col5=$4; col6=$5; col7=$7; col8=\".\"; col9=arr[2]; col10=arr[2]; col11=arr[2]; col12=($4>$5)?($4-$5):($5-$4); if (col7 == \"+\") { print col1, col2, col3, col4, col5, col6, col7, col8, col9, col10, col11, col12 } else { print col1, col2, col3, col4, col6, col5, col7, col8, col9, col10, col11, col12 }}' *.gtf | sed -e 's/;//g' -e 's/transcript_id//g' -e 's/gene_id//g' | awk '{$1=$1};1' OFS='\\t' > ../DMEL_COORDS/tRNA.coords.dict\n"
   ]
  },
  {
   "attachments": {},
   "cell_type": "markdown",
   "metadata": {},
   "source": [
    "De los archivos descargados de ARAPORT11 se van a generar los siguientes transcritos:  \n",
    "**upstream_3000**  \n",
    "**downstream_3000**  \n",
    "**intergenic**  \n",
    "**intron**"
   ]
  },
  {
   "attachments": {},
   "cell_type": "markdown",
   "metadata": {},
   "source": [
    "**upstream_3000**"
   ]
  },
  {
   "cell_type": "code",
   "execution_count": 11,
   "metadata": {},
   "outputs": [],
   "source": [
    "%%bash\n",
    "cd ../Dict\n",
    "grep '>' Araport11_upstream_3000_2022091.fasta | sed -e 's/|//g' -e 's/>//g' -e 's/LENGTH=//g' | awk '{ gsub(\"FORWARD\", \"+\"); gsub(\"REVERSE\", \"-\"); gsub(\"-\", \"..\", $2); col3 = substr($2, index($2,\":\")+1, index($2,\"..\")-index($2,\":\")-1); col4 = substr($2, index($2,\"..\")+2); print $1, substr($2, 1, index($2, \":\")-1), col3, col4, $2, $3, $4 }' OFS='\\t' | awk -v OFS='\\t' '{ if ($6 == \"-\") { temp = $5; $5 = $6; $6 = temp; print $1, \"upstream_3000\", $6, $2, $3, $4, $5, \".\", $1, $1, $1, $7 } else { print $1, \"upstream_3000\", $5, $2, $3, $4, $6, \".\", $1, $1, $1, $7 } }' | awk -F'\\t' 'BEGIN{OFS=\"\\t\"} { if ($7 == \"-\") { temp = $5; $5 = $6; $6 = temp } print $1, $2, $3, $4, $5, $6, $7, $8, $9, $10, $11, $12 }' > ../DMEL_COORDS/upstream_3000.coords.dict \n"
   ]
  },
  {
   "attachments": {},
   "cell_type": "markdown",
   "metadata": {},
   "source": [
    "**downstream_3000**"
   ]
  },
  {
   "cell_type": "code",
   "execution_count": 13,
   "metadata": {},
   "outputs": [],
   "source": [
    "%%bash\n",
    "cd ../Dict\n",
    "grep '>' Araport11_downstream_3000_2022091.fasta | sed -e 's/|//g' -e 's/>//g' -e 's/LENGTH=//g' | awk '{ gsub(\"FORWARD\", \"+\"); gsub(\"REVERSE\", \"-\"); gsub(\"-\", \"..\", $2); col3 = substr($2, index($2,\":\")+1, index($2,\"..\")-index($2,\":\")-1); col4 = substr($2, index($2,\"..\")+2); print $1, substr($2, 1, index($2, \":\")-1), col3, col4, $2, $3, $4 }' OFS='\\t' | awk -v OFS='\\t' '{ if ($6 == \"-\") { temp = $5; $5 = $6; $6 = temp; print $1, \"downstream_3000\", $6, $2, $3, $4, $5, \".\", $1, $1, $1, $7 } else { print $1, \"downstream_3000\", $5, $2, $3, $4, $6, \".\", $1, $1, $1, $7 } }' | awk -F'\\t' 'BEGIN{OFS=\"\\t\"} { if ($7 == \"-\") { temp = $5; $5 = $6; $6 = temp } print $1, $2, $3, $4, $5, $6, $7, $8, $9, $10, $11, $12 }' > ../DMEL_COORDS/downstream_3000.coords.dict"
   ]
  },
  {
   "attachments": {},
   "cell_type": "markdown",
   "metadata": {},
   "source": [
    "**intron**"
   ]
  },
  {
   "cell_type": "code",
   "execution_count": 14,
   "metadata": {},
   "outputs": [],
   "source": [
    "%%bash\n",
    "cd ../Dict\n",
    "grep '>' Araport11_intron_2022091.fasta | sed -e 's/|//g' -e 's/>//g' -e 's/LENGTH=//g' | awk '{$1=$1};1' OFS='\\t'|cut -f1,3,4,5| awk '{ gsub(\"FORWARD\", \"+\"); gsub(\"REVERSE\", \"-\"); gsub(\"-\", \"..\", $2); col3 = substr($2, index($2,\":\")+1, index($2,\"..\")-index($2,\":\")-1); col4 = substr($2, index($2,\"..\")+2); print $1, substr($2, 1, index($2, \":\")-1), col3, col4, $2, $3, $4 }' OFS='\\t' | awk -v OFS='\\t' '{ if ($6 == \"-\") { temp = $5; $5 = $6; $6 = temp; print $1, \"intron\", $6, $2, $3, $4, $5, \".\", $1, $1, $1, $7 } else { print $1, \"intron\", $5, $2, $3, $4, $6, \".\", $1, $1, $1, $7 } }' | awk -F'\\t' 'BEGIN{OFS=\"\\t\"} { if ($7 == \"-\") { temp = $5; $5 = $6; $6 = temp } print $1, $2, $3, $4, $5, $6, $7, $8, $9, $10, $11, $12 }' > ../DMEL_COORDS/intron.coords.dict"
   ]
  },
  {
   "attachments": {},
   "cell_type": "markdown",
   "metadata": {},
   "source": [
    "**intergenic**"
   ]
  },
  {
   "cell_type": "code",
   "execution_count": 15,
   "metadata": {},
   "outputs": [],
   "source": [
    "%%bash\n",
    "cd ../Dict\n",
    "grep '>' Araport11_intergenic_2022091.fasta | sed -e 's/|//g' -e 's/>//g' -e 's/LENGTH=//g' | awk '{ gsub(\"FORWARD\", \"+\"); gsub(\"REVERSE\", \"-\"); gsub(\"-\", \"..\", $2); col3 = substr($2, index($2,\":\")+1, index($2,\"..\")-index($2,\":\")-1); col4 = substr($2, index($2,\"..\")+2); print $1, substr($2, 1, index($2, \":\")-1), col3, col4, $2, $3, $4 }' OFS='\\t' | awk -v OFS='\\t' '{ if ($6 == \"-\") { temp = $5; $5 = $6; $6 = temp; print $1, \"intergenic\", $6, $2, $3, $4, $5, \".\", $1, $1, $1, $7 } else { print $1, \"intergenic\", $5, $2, $3, $4, $6, \".\", $1, $1, $1, $7 } }' | awk -F'\\t' 'BEGIN{OFS=\"\\t\"} { if ($7 == \"-\") { temp = $5; $5 = $6; $6 = temp } print $1, $2, $3, $4, $5, $6, $7, $8, $9, $10, $11, $12 }' > ../DMEL_COORDS/intergenic.coords.dict\n"
   ]
  },
  {
   "attachments": {},
   "cell_type": "markdown",
   "metadata": {},
   "source": [
    "Del archivo descargado de figshare, se generara el diccionario para los lncRNA"
   ]
  },
  {
   "attachments": {},
   "cell_type": "markdown",
   "metadata": {},
   "source": [
    "**LncRNA**"
   ]
  },
  {
   "cell_type": "code",
   "execution_count": 16,
   "metadata": {},
   "outputs": [],
   "source": [
    "%%bash\n",
    "cd ../Dict\n",
    "cut -f1,2,3,4,5,7,17 LncRNA_Anotacion_Lab.tsv|awk 'NR > 1'|awk -v OFS='\\t' '{print $4, $7, $1\":\"$2\"..\"$3, $1, $2, $3, $6, \".\", $5, $5, $5, ($2>$3)?($2-$3):($3-$2)}'|awk -F'\\t' 'BEGIN{OFS=\"\\t\"} { if ($7 == \"-\") { temp = $5; $5 = $6; $6 = temp } print $1, $2, $3, $4, $5, $6, $7, $8, $9, $10, $11, $12 }' > ../DMEL_COORDS/lncRNA.coords.dict \n"
   ]
  }
 ],
 "metadata": {
  "kernelspec": {
   "display_name": "base",
   "language": "python",
   "name": "python3"
  },
  "language_info": {
   "codemirror_mode": {
    "name": "ipython",
    "version": 3
   },
   "file_extension": ".py",
   "mimetype": "text/x-python",
   "name": "python",
   "nbconvert_exporter": "python",
   "pygments_lexer": "ipython3",
   "version": "3.8.5"
  },
  "orig_nbformat": 4
 },
 "nbformat": 4,
 "nbformat_minor": 2
}

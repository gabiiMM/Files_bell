{
 "cells": [
  {
   "attachments": {},
   "cell_type": "markdown",
   "metadata": {},
   "source": [
    "# Creacion de los archivos necesarios para el pipeline de bell"
   ]
  },
  {
   "attachments": {},
   "cell_type": "markdown",
   "metadata": {},
   "source": [
    "### El primer archivo con el que se va a trabajar es con TAIR10_3_utr_20101028.fasta"
   ]
  },
  {
   "attachments": {},
   "cell_type": "markdown",
   "metadata": {},
   "source": [
    "Se extraen todos los encabezados del fasta de la siguiente forma:"
   ]
  },
  {
   "cell_type": "code",
   "execution_count": 55,
   "metadata": {},
   "outputs": [
    {
     "name": "stdout",
     "output_type": "stream",
     "text": [
      "AT1G51370.2\tchr1:19046749-19046825\tFORWARD\t77\n",
      "AT1G50920.1\tchr1:18872571-18872930\tFORWARD\t260\n",
      "AT1G44020.1\tchr1:16716112-16716691\tREVERSE\t580\n",
      "AT1G15970.1\tchr1:5486319-5486543\tREVERSE\t225\n",
      "AT1G73440.1\tchr1:27612183-27612815\tFORWARD\t633\n",
      "AT1G75120.1\tchr1:28196857-28197021\tREVERSE\t165\n",
      "AT1G17600.1\tchr1:6052936-6053025\tREVERSE\t90\n",
      "AT1G51380.1\tchr1:19049968-19050162\tFORWARD\t195\n",
      "AT1G77370.1\tchr1:29074643-29074796\tFORWARD\t154\n",
      "AT1G10950.1\tchr1:3663623-3663984\tFORWARD\t362\n"
     ]
    }
   ],
   "source": [
    "%%bash\n",
    "cd ../Transcritos\n",
    "grep '>' TAIR10_3_utr_20101028.fasta | sed -e 's/|[^|]*|//g' -e 's/>//g' -e 's/LENGTH=//g' | awk '{$1=$1};1' OFS='\\t'>  TAIR10_3_utr_20101028_encabezados.txt\n",
    "head TAIR10_3_utr_20101028_encabezados.txt\n",
    "cp TAIR10_3_utr_20101028_encabezados.txt ../GTF/"
   ]
  },
  {
   "attachments": {},
   "cell_type": "markdown",
   "metadata": {},
   "source": [
    "Ahora se extraen unicamente los 3 UTR del GTF:\n"
   ]
  },
  {
   "cell_type": "code",
   "execution_count": 54,
   "metadata": {},
   "outputs": [
    {
     "name": "stdout",
     "output_type": "stream",
     "text": [
      "1\taraport11\tthree_prime_utr\t10942648\t10942825\t.\t-\t.\tgene_id \"AT1G30814\"; transcript_id \"AT1G30814.1\"; gene_name \"AT1G30814\"; gene_source \"araport11\"; gene_biotype \"protein_coding\"; transcript_name \"AT1G30814-203\"; transcript_source \"araport11\"; transcript_biotype \"protein_coding\"; tag \"Ensembl_canonical\";\n",
      "1\taraport11\tthree_prime_utr\t10942648\t10942825\t.\t-\t.\tgene_id \"AT1G30814\"; transcript_id \"AT1G30814.4\"; gene_name \"AT1G30814\"; gene_source \"araport11\"; gene_biotype \"protein_coding\"; transcript_name \"AT1G30814-202\"; transcript_source \"araport11\"; transcript_biotype \"protein_coding\";\n",
      "1\taraport11\tthree_prime_utr\t10943007\t10943138\t.\t-\t.\tgene_id \"AT1G30814\"; transcript_id \"AT1G30814.2\"; gene_name \"AT1G30814\"; gene_source \"araport11\"; gene_biotype \"protein_coding\"; transcript_name \"AT1G30814-204\"; transcript_source \"araport11\"; transcript_biotype \"protein_coding\";\n",
      "1\taraport11\tthree_prime_utr\t10942663\t10942909\t.\t-\t.\tgene_id \"AT1G30814\"; transcript_id \"AT1G30814.2\"; gene_name \"AT1G30814\"; gene_source \"araport11\"; gene_biotype \"protein_coding\"; transcript_name \"AT1G30814-204\"; transcript_source \"araport11\"; transcript_biotype \"protein_coding\";\n",
      "1\taraport11\tthree_prime_utr\t10942648\t10942825\t.\t-\t.\tgene_id \"AT1G30814\"; transcript_id \"AT1G30814.3\"; gene_name \"AT1G30814\"; gene_source \"araport11\"; gene_biotype \"protein_coding\"; transcript_name \"AT1G30814-201\"; transcript_source \"araport11\"; transcript_biotype \"protein_coding\";\n",
      "1\taraport11\tthree_prime_utr\t29677904\t29678284\t.\t-\t.\tgene_id \"AT1G78930\"; transcript_id \"AT1G78930.1\"; gene_name \"AT1G78930\"; gene_source \"araport11\"; gene_biotype \"protein_coding\"; transcript_name \"AT1G78930-201\"; transcript_source \"araport11\"; transcript_biotype \"protein_coding\"; tag \"Ensembl_canonical\";\n",
      "1\taraport11\tthree_prime_utr\t26966558\t26966688\t.\t+\t.\tgene_id \"AT1G71695\"; transcript_id \"AT1G71695.1\"; gene_name \"AT1G71695\"; gene_source \"araport11\"; gene_biotype \"protein_coding\"; transcript_name \"AT1G71695-201\"; transcript_source \"araport11\"; transcript_biotype \"protein_coding\"; tag \"Ensembl_canonical\";\n",
      "1\taraport11\tthree_prime_utr\t21805932\t21806278\t.\t-\t.\tgene_id \"AT1G58983\"; transcript_id \"AT1G58983.1\"; gene_name \"AT1G58983\"; gene_source \"araport11\"; gene_biotype \"protein_coding\"; transcript_name \"AT1G58983-201\"; transcript_source \"araport11\"; transcript_biotype \"protein_coding\"; tag \"Ensembl_canonical\";\n",
      "1\taraport11\tthree_prime_utr\t4430778\t4430965\t.\t+\t.\tgene_id \"AT1G12980\"; transcript_id \"AT1G12980.1\"; gene_name \"ESR1\"; gene_source \"araport11\"; gene_biotype \"protein_coding\"; transcript_name \"ESR1-201\"; transcript_source \"araport11\"; transcript_biotype \"protein_coding\"; tag \"Ensembl_canonical\";\n",
      "1\taraport11\tthree_prime_utr\t17141620\t17141771\t.\t+\t.\tgene_id \"AT1G45223\"; transcript_id \"AT1G45223.1\"; gene_name \"AT1G45223\"; gene_source \"araport11\"; gene_biotype \"protein_coding\"; transcript_name \"AT1G45223-201\"; transcript_source \"araport11\"; transcript_biotype \"protein_coding\"; tag \"Ensembl_canonical\";\n"
     ]
    }
   ],
   "source": [
    "%%bash\n",
    "grep -v '#!\\|##' Arabidopsis_thaliana.TAIR10.56.gtf | grep 'three_prime_utr' > GTF_three_prime_utr.txt\n",
    "head GTF_three_prime_utr.txt"
   ]
  },
  {
   "attachments": {},
   "cell_type": "markdown",
   "metadata": {},
   "source": [
    "Como se puede apreciar en la columna 9 vienen varios parametros, por lo que se van a separar en diferentes columnas con el siguiente comando:"
   ]
  },
  {
   "cell_type": "code",
   "execution_count": 53,
   "metadata": {},
   "outputs": [
    {
     "name": "stdout",
     "output_type": "stream",
     "text": [
      "chr1\taraport11\tthree_prime_utr\t10942648\t10942825\t.\t-\t.\tAT1G30814\tAT1G30814.1\tAT1G30814\tAT1G30814-203\n",
      "chr1\taraport11\tthree_prime_utr\t10942648\t10942825\t.\t-\t.\tAT1G30814\tAT1G30814.4\tAT1G30814\tAT1G30814-202\n",
      "chr1\taraport11\tthree_prime_utr\t10943007\t10943138\t.\t-\t.\tAT1G30814\tAT1G30814.2\tAT1G30814\tAT1G30814-204\n",
      "chr1\taraport11\tthree_prime_utr\t10942663\t10942909\t.\t-\t.\tAT1G30814\tAT1G30814.2\tAT1G30814\tAT1G30814-204\n",
      "chr1\taraport11\tthree_prime_utr\t10942648\t10942825\t.\t-\t.\tAT1G30814\tAT1G30814.3\tAT1G30814\tAT1G30814-201\n",
      "chr1\taraport11\tthree_prime_utr\t29677904\t29678284\t.\t-\t.\tAT1G78930\tAT1G78930.1\tAT1G78930\tAT1G78930-201\n",
      "chr1\taraport11\tthree_prime_utr\t26966558\t26966688\t.\t+\t.\tAT1G71695\tAT1G71695.1\tAT1G71695\tAT1G71695-201\n",
      "chr1\taraport11\tthree_prime_utr\t21805932\t21806278\t.\t-\t.\tAT1G58983\tAT1G58983.1\tAT1G58983\tAT1G58983-201\n",
      "chr1\taraport11\tthree_prime_utr\t4430778\t4430965\t.\t+\t.\tAT1G12980\tAT1G12980.1\tESR1\tESR1-201\n",
      "chr1\taraport11\tthree_prime_utr\t17141620\t17141771\t.\t+\t.\tAT1G45223\tAT1G45223.1\tAT1G45223\tAT1G45223-201\n"
     ]
    }
   ],
   "source": [
    "%%bash\n",
    "awk -F'\\t' 'BEGIN{OFS=\"\\t\"} {gsub(/\"/, \"\", $9); split($9, arr, \"; \"); print $1, $2, $3, $4, $5, $6, $7, $8, arr[1], arr[2], arr[3], arr[6]}' GTF_three_prime_utr.txt | sed -e 's/gene_id //g' -e 's/transcript_id //g' -e 's/gene_name //g' -e 's/transcript_name //g'|awk -F'\\t' 'BEGIN{OFS=\"\\t\"} {$1 = \"chr\" $1; print}'> GTF_three_prime_utr_final.txt\n",
    "head GTF_three_prime_utr_final.txt"
   ]
  },
  {
   "attachments": {},
   "cell_type": "markdown",
   "metadata": {},
   "source": [
    "Recordando que la columna 9 es **gene_id**, 10 es **transcript_id**, 11 es **gene_name** y 12 **transcript_name**"
   ]
  },
  {
   "attachments": {},
   "cell_type": "markdown",
   "metadata": {
    "tags": []
   },
   "source": [
    "Teniendo estos dos archivos  \n",
    "*TAIR10_3_utr_20101028_encabezados.txt*  \n",
    "&  \n",
    "*GTF_three_prime_utr_final.txt*  \n",
    "  \n",
    "Se va a llevar la comparacion linea por linea del fasta con el archivo del GTF para generar el archivo con las siguientes caracteristicas:\n",
    "\n",
    "<table>\n",
    "  <thead>\n",
    "    <tr style=\"background-color: Turquoise; color: black;\">\n",
    "      <th>COL1</th>\n",
    "      <th>COL2</th>\n",
    "      <th>COL3</th>\n",
    "      <th>COL4</th>\n",
    "      <th>COL5</th>\n",
    "      <th>COL6</th>\n",
    "      <th>COL7</th>\n",
    "      <th>COL8</th>\n",
    "      <th>COL9</th>\n",
    "      <th>COL10</th>\n",
    "      <th>COL11</th>\n",
    "      <th>COL12</th>\n",
    "    </tr>\n",
    "  <thead>\n",
    "    <tr style=\"background-color: Aquamarine; color: black;\">\n",
    "      <th>Trancript_id</th>\n",
    "      <th>Type</th>\n",
    "      <th>Localization</th>\n",
    "      <th>Chromosome</th>\n",
    "      <th>Start</th>\n",
    "      <th>End</th>\n",
    "      <th>Strand</th>\n",
    "      <th>Exon</th>\n",
    "      <th>Gene_name</th>\n",
    "      <th>Gene_id</th>\n",
    "      <th>Gene_id2</th>\n",
    "      <th>Length</th>\n",
    "    </tr>\n",
    "    <tr style=\"background-color: Aquamarine; color: black;\">\n",
    "      <th>COL1 -> TAIR10_3_utr</th>\n",
    "      <th>COL3 -> GTF_three_prime</th>\n",
    "      <th>COL2 -> TAIR10_3_utr</th>\n",
    "      <th>COL1 -> GTF_three_prime</th>\n",
    "      <th>COL4 -> GTF_three_prime</th>\n",
    "      <th>COL5 -> GTF_three_prime</th>\n",
    "      <th>COL7-> GTF_three_prime</th>\n",
    "      <th>COL6 -> GTF_three_prime</th>\n",
    "      <th>COL11 -> GTF_three_prime</th>\n",
    "      <th>COL9 -> GTF_three_prime_utr</th>\n",
    "      <th>COL9 -> GTF_three_prime_utr</th>\n",
    "      <th>COL4 -> TAIR10_3_utr</th>\n",
    "    </tr> \n",
    "       \n"
   ]
  },
  {
   "attachments": {},
   "cell_type": "markdown",
   "metadata": {},
   "source": [
    "Teniendo el contenido de la tabla se ejecuta el siguiente comando para generar el archivo 3' UTR:"
   ]
  },
  {
   "cell_type": "code",
   "execution_count": 52,
   "metadata": {
    "vscode": {
     "languageId": "bat"
    }
   },
   "outputs": [
    {
     "name": "stdout",
     "output_type": "stream",
     "text": [
      "AT1G30814.1 three_prime_utr chr1:10942648-10942825 chr1 10942648 10942825 - . AT1G30814 AT1G30814 AT1G30814 178\n",
      "AT1G30814.2 three_prime_utr chr1:10942663-10943138 chr1 10943007 10943138 - . AT1G30814 AT1G30814 AT1G30814 379\n",
      "AT1G30814.2 three_prime_utr chr1:10942663-10943138 chr1 10942663 10942909 - . AT1G30814 AT1G30814 AT1G30814 379\n",
      "AT1G30814.3 three_prime_utr chr1:10942648-10942825 chr1 10942648 10942825 - . AT1G30814 AT1G30814 AT1G30814 178\n",
      "AT1G78930.1 three_prime_utr chr1:29678097-29678284 chr1 29677904 29678284 - . AT1G78930 AT1G78930 AT1G78930 188\n",
      "AT1G71695.1 three_prime_utr chr1:26966558-26966688 chr1 26966558 26966688 + . AT1G71695 AT1G71695 AT1G71695 131\n",
      "AT1G58983.1 three_prime_utr chr1:21806020-21806278 chr1 21805932 21806278 - . AT1G58983 AT1G58983 AT1G58983 259\n",
      "AT1G12980.1 three_prime_utr chr1:4430778-4430965 chr1 4430778 4430965 + . ESR1 AT1G12980 AT1G12980 188\n",
      "AT1G45223.1 three_prime_utr chr1:17141620-17141771 chr1 17141620 17141771 + . AT1G45223 AT1G45223 AT1G45223 152\n",
      "AT1G56250.1 three_prime_utr chr1:21061600-21061745 chr1 21061522 21061745 - . PP2-B14 AT1G56250 AT1G56250 146\n",
      "30316\n"
     ]
    }
   ],
   "source": [
    "%%bash\n",
    "awk 'NR==FNR{a[$1]=$0; next} $10 in a{split(a[$10], arr, \" \"); print arr[1], $3, arr[2], $1, $4, $5, $7, $6, $11, $9, $9, arr[4]}' TAIR10_3_utr_20101028_encabezados.txt GTF_three_prime_utr_final.txt | head\n",
    "\n",
    "awk 'NR==FNR{a[$1]=$0; next} $10 in a{split(a[$10], arr, \" \"); print arr[1], $3, arr[2], $1, $4, $5, $7, $6, $11, $9, $9, arr[4]}' TAIR10_3_utr_20101028_encabezados.txt GTF_three_prime_utr_final.txt | wc -l"
   ]
  },
  {
   "attachments": {},
   "cell_type": "markdown",
   "metadata": {},
   "source": [
    "Veo varios puntos negativos, el primero es que las coordenadas de ambos archivos no corresponden"
   ]
  },
  {
   "cell_type": "code",
   "execution_count": 51,
   "metadata": {},
   "outputs": [],
   "source": [
    "%%bash\n",
    "awk 'NR==FNR{a[$1]=$0; next} $10 in a{split(a[$10], arr, \" \"); print arr[1], $3, arr[2], $1, $4, $5, $7, $6, $11, $9, $9, arr[4]}' TAIR10_3_utr_20101028_encabezados.txt GTF_three_prime_utr_final.txt > ../coords_dict/TAIR10_3_UTR.coords.dict"
   ]
  },
  {
   "attachments": {},
   "cell_type": "markdown",
   "metadata": {},
   "source": [
    "Por lo que se tendra que volver a revisar varios parametros"
   ]
  },
  {
   "attachments": {},
   "cell_type": "markdown",
   "metadata": {},
   "source": [
    "El primero tiene que ver con la cantidad de anotaciones en el GTF y el archivo FASTA."
   ]
  },
  {
   "attachments": {},
   "cell_type": "markdown",
   "metadata": {},
   "source": [
    "Para eso nos cambiamos de ubicacion y descargamos el archivo de Araport11:"
   ]
  },
  {
   "cell_type": "code",
   "execution_count": 50,
   "metadata": {},
   "outputs": [
    {
     "name": "stderr",
     "output_type": "stream",
     "text": [
      "--2023-05-23 19:27:17--  https://www.arabidopsis.org/download_files/Sequences/Araport11_blastsets/Araport11_3_utr_20220914.gz\n",
      "Resolving www.arabidopsis.org (www.arabidopsis.org)... 52.88.10.157\n",
      "Connecting to www.arabidopsis.org (www.arabidopsis.org)|52.88.10.157|:443... connected.\n",
      "HTTP request sent, awaiting response... 200 OK\n",
      "Length: 3809852 (3.6M) [application/x-gzip]\n",
      "Saving to: ‘Araport11_3_utr_20220914.gz’\n",
      "\n",
      "     0K .......... .......... .......... .......... ..........  1%  363K 10s\n",
      "    50K .......... .......... .......... .......... ..........  2%  583K 8s\n",
      "   100K .......... .......... .......... .......... ..........  4% 41.6M 5s\n",
      "   150K .......... .......... .......... .......... ..........  5%  667K 5s\n",
      "   200K .......... .......... .......... .......... ..........  6% 4.74M 4s\n",
      "   250K .......... .......... .......... .......... ..........  8% 40.7M 4s\n",
      "   300K .......... .......... .......... .......... ..........  9% 57.7M 3s\n",
      "   350K .......... .......... .......... .......... .......... 10% 1.50M 3s\n",
      "   400K .......... .......... .......... .......... .......... 12%  983K 3s\n",
      "   450K .......... .......... .......... .......... .......... 13% 84.9M 3s\n",
      "   500K .......... .......... .......... .......... .......... 14% 25.3M 2s\n",
      "   550K .......... .......... .......... .......... .......... 16% 70.5M 2s\n",
      "   600K .......... .......... .......... .......... .......... 17% 88.6M 2s\n",
      "   650K .......... .......... .......... .......... .......... 18% 58.9M 2s\n",
      "   700K .......... .......... .......... .......... .......... 20% 30.6M 2s\n",
      "   750K .......... .......... .......... .......... .......... 21% 1.70M 2s\n",
      "   800K .......... .......... .......... .......... .......... 22% 1.18M 2s\n",
      "   850K .......... .......... .......... .......... .......... 24% 4.95M 2s\n",
      "   900K .......... .......... .......... .......... .......... 25% 78.1M 1s\n",
      "   950K .......... .......... .......... .......... .......... 26% 87.7M 1s\n",
      "  1000K .......... .......... .......... .......... .......... 28% 91.4M 1s\n",
      "  1050K .......... .......... .......... .......... .......... 29% 31.8M 1s\n",
      "  1100K .......... .......... .......... .......... .......... 30% 31.4M 1s\n",
      "  1150K .......... .......... .......... .......... .......... 32% 27.0M 1s\n",
      "  1200K .......... .......... .......... .......... .......... 33% 31.4M 1s\n",
      "  1250K .......... .......... .......... .......... .......... 34% 31.4M 1s\n",
      "  1300K .......... .......... .......... .......... .......... 36% 26.8M 1s\n",
      "  1350K .......... .......... .......... .......... .......... 37% 31.6M 1s\n",
      "  1400K .......... .......... .......... .......... .......... 38% 26.9M 1s\n",
      "  1450K .......... .......... .......... .......... .......... 40% 31.4M 1s\n",
      "  1500K .......... .......... .......... .......... .......... 41% 31.4M 1s\n",
      "  1550K .......... .......... .......... .......... .......... 43%  506K 1s\n",
      "  1600K .......... .......... .......... .......... .......... 44% 90.4M 1s\n",
      "  1650K .......... .......... .......... .......... .......... 45% 81.6M 1s\n",
      "  1700K .......... .......... .......... .......... .......... 47% 92.3M 1s\n",
      "  1750K .......... .......... .......... .......... .......... 48% 90.9M 1s\n",
      "  1800K .......... .......... .......... .......... .......... 49% 76.4M 1s\n",
      "  1850K .......... .......... .......... .......... .......... 51% 93.3M 1s\n",
      "  1900K .......... .......... .......... .......... .......... 52% 81.0M 1s\n",
      "  1950K .......... .......... .......... .......... .......... 53% 94.1M 1s\n",
      "  2000K .......... .......... .......... .......... .......... 55% 94.0M 0s\n",
      "  2050K .......... .......... .......... .......... .......... 56% 78.6M 0s\n",
      "  2100K .......... .......... .......... .......... .......... 57% 92.1M 0s\n",
      "  2150K .......... .......... .......... .......... .......... 59% 80.9M 0s\n",
      "  2200K .......... .......... .......... .......... .......... 60% 92.6M 0s\n",
      "  2250K .......... .......... .......... .......... .......... 61% 94.8M 0s\n",
      "  2300K .......... .......... .......... .......... .......... 63% 79.1M 0s\n",
      "  2350K .......... .......... .......... .......... .......... 64% 94.2M 0s\n",
      "  2400K .......... .......... .......... .......... .......... 65%  753K 0s\n",
      "  2450K .......... .......... .......... .......... .......... 67% 89.2M 0s\n",
      "  2500K .......... .......... .......... .......... .......... 68% 86.0M 0s\n",
      "  2550K .......... .......... .......... .......... .......... 69% 65.9M 0s\n",
      "  2600K .......... .......... .......... .......... .......... 71% 37.3M 0s\n",
      "  2650K .......... .......... .......... .......... .......... 72% 74.4M 0s\n",
      "  2700K .......... .......... .......... .......... .......... 73% 29.7M 0s\n",
      "  2750K .......... .......... .......... .......... .......... 75% 48.5M 0s\n",
      "  2800K .......... .......... .......... .......... .......... 76% 77.9M 0s\n",
      "  2850K .......... .......... .......... .......... .......... 77% 48.0M 0s\n",
      "  2900K .......... .......... .......... .......... .......... 79% 50.0M 0s\n",
      "  2950K .......... .......... .......... .......... .......... 80% 64.3M 0s\n",
      "  3000K .......... .......... .......... .......... .......... 81% 90.3M 0s\n",
      "  3050K .......... .......... .......... .......... .......... 83% 79.1M 0s\n",
      "  3100K .......... .......... .......... .......... .......... 84% 90.1M 0s\n",
      "  3150K .......... .......... .......... .......... .......... 86% 82.0M 0s\n",
      "  3200K .......... .......... .......... .......... .......... 87% 93.4M 0s\n",
      "  3250K .......... .......... .......... .......... .......... 88% 93.6M 0s\n",
      "  3300K .......... .......... .......... .......... .......... 90% 79.4M 0s\n",
      "  3350K .......... .......... .......... .......... .......... 91% 95.9M 0s\n",
      "  3400K .......... .......... .......... .......... .......... 92% 81.4M 0s\n",
      "  3450K .......... .......... .......... .......... .......... 94% 93.0M 0s\n",
      "  3500K .......... .......... .......... .......... .......... 95% 94.5M 0s\n",
      "  3550K .......... .......... .......... .......... .......... 96% 80.3M 0s\n",
      "  3600K .......... .......... .......... .......... .......... 98% 93.8M 0s\n",
      "  3650K .......... .......... .......... .......... .......... 99% 82.8M 0s\n",
      "  3700K .......... ..........                                 100%  109M=0.7s\n",
      "\n",
      "2023-05-23 19:27:19 (5.25 MB/s) - ‘Araport11_3_utr_20220914.gz’ saved [3809852/3809852]\n",
      "\n"
     ]
    }
   ],
   "source": [
    "%%bash\n",
    "cd ../PRUEBAS\n",
    "wget --no-check-certificate \"https://www.arabidopsis.org/download_files/Sequences/Araport11_blastsets/Araport11_3_utr_20220914.gz\"\n",
    "gzip -d *gz\n",
    "mv Araport11_3_utr_20220914 Araport11_3_utr_20220914.fasta"
   ]
  },
  {
   "attachments": {},
   "cell_type": "markdown",
   "metadata": {},
   "source": [
    "Contamos el numero de anotaciones que tiene este archivo:"
   ]
  },
  {
   "cell_type": "code",
   "execution_count": 49,
   "metadata": {},
   "outputs": [
    {
     "name": "stdout",
     "output_type": "stream",
     "text": [
      "42347\n"
     ]
    }
   ],
   "source": [
    "%%bash\n",
    "cd ../PRUEBAS\n",
    "grep '>' Araport11_3_utr_20220914.fasta |awk '{$1=$1};1' OFS='\\t'|sed -e 's/>//g'|cut -f1 |sort|uniq|wc -l"
   ]
  },
  {
   "attachments": {},
   "cell_type": "markdown",
   "metadata": {},
   "source": [
    "Lo mismo para el archivo GTF"
   ]
  },
  {
   "cell_type": "code",
   "execution_count": 48,
   "metadata": {},
   "outputs": [
    {
     "name": "stdout",
     "output_type": "stream",
     "text": [
      "42322\n"
     ]
    }
   ],
   "source": [
    "%%bash\n",
    " awk -F'\\t' 'BEGIN{OFS=\"\\t\"} {gsub(/\"/, \"\", $9); split($9, arr, \"; \"); print $1, $2, $3, $4, $5, $6, $7, $8, arr[1], arr[2], arr[3], arr[6]}' GTF_three_prime_utr.txt | sed -e 's/gene_id //g' -e 's/transcript_id //g' -e 's/gene_name //g' -e 's/transcript_name //g'|awk -F'\\t' 'BEGIN{OFS=\"\\t\"} {$1 = \"chr\" $1; print}'|cut -f10|sort|uniq|wc -l"
   ]
  },
  {
   "attachments": {},
   "cell_type": "markdown",
   "metadata": {},
   "source": [
    "Como se puede apreciar, no coinciden, se tiene 25 menos en el GTF"
   ]
  },
  {
   "attachments": {},
   "cell_type": "markdown",
   "metadata": {},
   "source": [
    "Y se procede a repetir los mismos pasos anteriores, pero con el nuevo archivo:"
   ]
  },
  {
   "cell_type": "code",
   "execution_count": 47,
   "metadata": {},
   "outputs": [
    {
     "name": "stdout",
     "output_type": "stream",
     "text": [
      "AT1G01010.1\tchr1:5631-5899\tFORWARD\t269\n",
      "AT1G01020.1\tchr1:6788-6914\tREVERSE\t127\n",
      "AT1G01020.2\tchr1:6788-7314\tREVERSE\t440\n",
      "AT1G01020.3\tchr1:6788-6914\tREVERSE\t127\n",
      "AT1G01020.4\tchr1:6788-6914\tREVERSE\t127\n",
      "AT1G01020.5\tchr1:6788-6914\tREVERSE\t127\n",
      "AT1G01020.6\tchr1:6788-7314\tREVERSE\t440\n",
      "AT1G01030.1\tchr1:11649-11863\tREVERSE\t215\n",
      "AT1G01030.2\tchr1:11649-11863\tREVERSE\t215\n",
      "AT1G01040.1\tchr1:31080-31227\tFORWARD\t148\n"
     ]
    }
   ],
   "source": [
    "%%bash\n",
    "cd ../PRUEBAS/\n",
    "grep '>' Araport11_3_utr_20220914.fasta | sed -e 's/|[^|]*|//g' -e 's/>//g' -e 's/LENGTH=//g' | awk '{$1=$1};1' OFS='\\t'> Araport11_3_utr_20220914.txt\n",
    "head Araport11_3_utr_20220914.txt"
   ]
  },
  {
   "attachments": {},
   "cell_type": "markdown",
   "metadata": {},
   "source": [
    "Aqui pongo un print sin cambiar la posicion de acuerdo al sentido de la cadena."
   ]
  },
  {
   "cell_type": "code",
   "execution_count": 46,
   "metadata": {},
   "outputs": [
    {
     "name": "stdout",
     "output_type": "stream",
     "text": [
      "AT1G30814.1 three_prime_utr chr1:10942648-10942825 chr1 10942648 10942825 - . AT1G30814 AT1G30814 AT1G30814 178\n",
      "AT1G30814.2 three_prime_utr chr1:10942663-10943138 chr1 10943007 10943138 - . AT1G30814 AT1G30814 AT1G30814 379\n",
      "AT1G30814.2 three_prime_utr chr1:10942663-10943138 chr1 10942663 10942909 - . AT1G30814 AT1G30814 AT1G30814 379\n",
      "AT1G30814.3 three_prime_utr chr1:10942648-10942825 chr1 10942648 10942825 - . AT1G30814 AT1G30814 AT1G30814 178\n",
      "AT1G78930.1 three_prime_utr chr1:29678097-29678284 chr1 29677904 29678284 - . AT1G78930 AT1G78930 AT1G78930 188\n",
      "AT1G71695.1 three_prime_utr chr1:26966558-26966688 chr1 26966558 26966688 + . AT1G71695 AT1G71695 AT1G71695 131\n",
      "AT1G58983.1 three_prime_utr chr1:21806020-21806278 chr1 21805932 21806278 - . AT1G58983 AT1G58983 AT1G58983 259\n",
      "AT1G12980.1 three_prime_utr chr1:4430778-4430965 chr1 4430778 4430965 + . ESR1 AT1G12980 AT1G12980 188\n",
      "AT1G45223.1 three_prime_utr chr1:17141620-17141771 chr1 17141620 17141771 + . AT1G45223 AT1G45223 AT1G45223 152\n",
      "AT1G56250.1 three_prime_utr chr1:21061600-21061745 chr1 21061522 21061745 - . PP2-B14 AT1G56250 AT1G56250 146\n"
     ]
    }
   ],
   "source": [
    "%%bash\n",
    "awk 'NR==FNR{a[$1]=$0; next} $10 in a{split(a[$10], arr, \" \"); print arr[1], $3, arr[2], $1, $4, $5, $7, $6, $11, $9, $9, arr[4]}' TAIR10_3_utr_20101028_encabezados.txt GTF_three_prime_utr_final.txt|head "
   ]
  },
  {
   "cell_type": "code",
   "execution_count": 45,
   "metadata": {},
   "outputs": [
    {
     "name": "stdout",
     "output_type": "stream",
     "text": [
      "AT1G30814.1 three_prime_utr chr1:10942648-10942825 chr1 10942648 10942825 - . AT1G30814 AT1G30814 AT1G30814 178\n",
      "AT1G30814.4 three_prime_utr chr1:10942648-10942825 chr1 10942648 10942825 - . AT1G30814 AT1G30814 AT1G30814 178\n",
      "AT1G30814.2 three_prime_utr chr1:10942663-10943138 chr1 10943007 10943138 - . AT1G30814 AT1G30814 AT1G30814 379\n",
      "AT1G30814.2 three_prime_utr chr1:10942663-10943138 chr1 10942663 10942909 - . AT1G30814 AT1G30814 AT1G30814 379\n",
      "AT1G30814.3 three_prime_utr chr1:10942648-10942825 chr1 10942648 10942825 - . AT1G30814 AT1G30814 AT1G30814 178\n",
      "AT1G78930.1 three_prime_utr chr1:29677904-29678284 chr1 29677904 29678284 - . AT1G78930 AT1G78930 AT1G78930 381\n",
      "AT1G71695.1 three_prime_utr chr1:26966558-26966688 chr1 26966558 26966688 + . AT1G71695 AT1G71695 AT1G71695 131\n",
      "AT1G58983.1 three_prime_utr chr1:21805932-21806278 chr1 21805932 21806278 - . AT1G58983 AT1G58983 AT1G58983 347\n",
      "AT1G12980.1 three_prime_utr chr1:4430778-4430965 chr1 4430778 4430965 + . ESR1 AT1G12980 AT1G12980 188\n",
      "AT1G45223.1 three_prime_utr chr1:17141620-17141771 chr1 17141620 17141771 + . AT1G45223 AT1G45223 AT1G45223 152\n"
     ]
    }
   ],
   "source": [
    "%%bash\n",
    "cp GTF_three_prime_utr_final.txt ../PRUEBAS/\n",
    "cd ../PRUEBAS/\n",
    "awk 'NR==FNR{a[$1]=$0; next} $10 in a{split(a[$10], arr, \" \"); print arr[1], $3, arr[2], $1, $4, $5, $7, $6, $11, $9, $9, arr[4]}' Araport11_3_utr_20220914.txt GTF_three_prime_utr_final.txt|head "
   ]
  },
  {
   "cell_type": "code",
   "execution_count": 44,
   "metadata": {},
   "outputs": [
    {
     "name": "stdout",
     "output_type": "stream",
     "text": [
      "AT1G30814.1\tthree_prime_utr\tchr1:10942648-10942825\tchr1\t10942648\t.\t10942825\t-\tAT1G30814\tAT1G30814\tAT1G30814\t178\n",
      "AT1G30814.4\tthree_prime_utr\tchr1:10942648-10942825\tchr1\t10942648\t.\t10942825\t-\tAT1G30814\tAT1G30814\tAT1G30814\t178\n",
      "AT1G30814.2\tthree_prime_utr\tchr1:10942663-10943138\tchr1\t10943007\t.\t10943138\t-\tAT1G30814\tAT1G30814\tAT1G30814\t379\n",
      "AT1G30814.2\tthree_prime_utr\tchr1:10942663-10943138\tchr1\t10942663\t.\t10942909\t-\tAT1G30814\tAT1G30814\tAT1G30814\t379\n",
      "AT1G30814.3\tthree_prime_utr\tchr1:10942648-10942825\tchr1\t10942648\t.\t10942825\t-\tAT1G30814\tAT1G30814\tAT1G30814\t178\n",
      "AT1G78930.1\tthree_prime_utr\tchr1:29677904-29678284\tchr1\t29677904\t.\t29678284\t-\tAT1G78930\tAT1G78930\tAT1G78930\t381\n",
      "AT1G71695.1\tthree_prime_utr\tchr1:26966558-26966688\tchr1\t26966558\t26966688\t.\t+\tAT1G71695\tAT1G71695\tAT1G71695\t131\n",
      "AT1G58983.1\tthree_prime_utr\tchr1:21805932-21806278\tchr1\t21805932\t.\t21806278\t-\tAT1G58983\tAT1G58983\tAT1G58983\t347\n",
      "AT1G12980.1\tthree_prime_utr\tchr1:4430778-4430965\tchr1\t4430778\t4430965\t.\t+\tESR1\tAT1G12980\tAT1G12980\t188\n",
      "AT1G45223.1\tthree_prime_utr\tchr1:17141620-17141771\tchr1\t17141620\t17141771\t.\t+\tAT1G45223\tAT1G45223\tAT1G45223\t152\n"
     ]
    }
   ],
   "source": [
    "%%bash\n",
    "cd ../PRUEBAS/\n",
    "awk 'BEGIN{OFS=\"\\t\"} NR==FNR{a[$1]=$0; next} $10 in a{split(a[$10], arr, \" \"); if ($7 == \"-\") {temp = $5; $5 = $6; $6 = temp} else if ($7 == \"+\") {$5 = $5; $6 = $6} print arr[1], $3, arr[2], $1, $4, $5, $6, $7, $11, $9, $9, arr[4]}' Araport11_3_utr_20220914.txt GTF_three_prime_utr_final.txt |head\n",
    "\n",
    "awk 'BEGIN{OFS=\"\\t\"} NR==FNR{a[$1]=$0; next} $10 in a{split(a[$10], arr, \" \"); if ($7 == \"-\") {temp = $5; $5 = $6; $6 = temp} else if ($7 == \"+\") {$5 = $5; $6 = $6} print arr[1], $3, arr[2], $1, $4, $5, $6, $7, $11, $9, $9, arr[4]}' Araport11_3_utr_20220914.txt GTF_three_prime_utr_final.txt > coords_3utr.dict"
   ]
  },
  {
   "attachments": {},
   "cell_type": "markdown",
   "metadata": {},
   "source": [
    "Claramente lo que hice arriba no esta bien, por lo que se procede a realizar lo siguiente"
   ]
  },
  {
   "cell_type": "code",
   "execution_count": 43,
   "metadata": {},
   "outputs": [
    {
     "name": "stdout",
     "output_type": "stream",
     "text": [
      "AT1G30814.1\tthree_prime_utr\tchr1:10942648-10942825\tchr1\t10942648\t10942825\t-\t.\tAT1G30814\tAT1G30814\tAT1G30814\t178\n",
      "AT1G30814.4\tthree_prime_utr\tchr1:10942648-10942825\tchr1\t10942648\t10942825\t-\t.\tAT1G30814\tAT1G30814\tAT1G30814\t178\n",
      "AT1G30814.2\tthree_prime_utr\tchr1:10942663-10943138\tchr1\t10943007\t10943138\t-\t.\tAT1G30814\tAT1G30814\tAT1G30814\t379\n",
      "AT1G30814.2\tthree_prime_utr\tchr1:10942663-10943138\tchr1\t10942663\t10942909\t-\t.\tAT1G30814\tAT1G30814\tAT1G30814\t379\n",
      "AT1G30814.3\tthree_prime_utr\tchr1:10942648-10942825\tchr1\t10942648\t10942825\t-\t.\tAT1G30814\tAT1G30814\tAT1G30814\t178\n",
      "AT1G78930.1\tthree_prime_utr\tchr1:29677904-29678284\tchr1\t29677904\t29678284\t-\t.\tAT1G78930\tAT1G78930\tAT1G78930\t381\n",
      "AT1G71695.1\tthree_prime_utr\tchr1:26966558-26966688\tchr1\t26966558\t26966688\t+\t.\tAT1G71695\tAT1G71695\tAT1G71695\t131\n",
      "AT1G58983.1\tthree_prime_utr\tchr1:21805932-21806278\tchr1\t21805932\t21806278\t-\t.\tAT1G58983\tAT1G58983\tAT1G58983\t347\n",
      "AT1G12980.1\tthree_prime_utr\tchr1:4430778-4430965\tchr1\t4430778\t4430965\t+\t.\tESR1\tAT1G12980\tAT1G12980\t188\n",
      "AT1G45223.1\tthree_prime_utr\tchr1:17141620-17141771\tchr1\t17141620\t17141771\t+\t.\tAT1G45223\tAT1G45223\tAT1G45223\t152\n"
     ]
    }
   ],
   "source": [
    "%%bash\n",
    "cd ../PRUEBAS/\n",
    "awk 'NR==FNR{a[$1]=$0; next} $10 in a{split(a[$10], arr, \" \"); print arr[1], $3, arr[2], $1, $4, $5, $7, $6, $11, $9, $9, arr[4]}' Araport11_3_utr_20220914.txt GTF_three_prime_utr_final.txt|awk '{$1=$1};1' OFS='\\t'|head"
   ]
  },
  {
   "attachments": {},
   "cell_type": "markdown",
   "metadata": {},
   "source": [
    "Como eso funciona, lo unico que debemos de cambiar son las posiciones de START & End en el caso de las lecturas en sentido contrario"
   ]
  },
  {
   "cell_type": "code",
   "execution_count": 42,
   "metadata": {},
   "outputs": [
    {
     "name": "stdout",
     "output_type": "stream",
     "text": [
      "AT1G30814.1\tthree_prime_utr\tchr1:10942648-10942825\tchr1\t10942825\t10942648\t-\t.\tAT1G30814\tAT1G30814\tAT1G30814\t178\n",
      "AT1G30814.4\tthree_prime_utr\tchr1:10942648-10942825\tchr1\t10942825\t10942648\t-\t.\tAT1G30814\tAT1G30814\tAT1G30814\t178\n",
      "AT1G30814.2\tthree_prime_utr\tchr1:10942663-10943138\tchr1\t10943138\t10943007\t-\t.\tAT1G30814\tAT1G30814\tAT1G30814\t379\n",
      "AT1G30814.2\tthree_prime_utr\tchr1:10942663-10943138\tchr1\t10942909\t10942663\t-\t.\tAT1G30814\tAT1G30814\tAT1G30814\t379\n",
      "AT1G30814.3\tthree_prime_utr\tchr1:10942648-10942825\tchr1\t10942825\t10942648\t-\t.\tAT1G30814\tAT1G30814\tAT1G30814\t178\n",
      "AT1G78930.1\tthree_prime_utr\tchr1:29677904-29678284\tchr1\t29678284\t29677904\t-\t.\tAT1G78930\tAT1G78930\tAT1G78930\t381\n",
      "AT1G71695.1\tthree_prime_utr\tchr1:26966558-26966688\tchr1\t26966558\t26966688\t+\t.\tAT1G71695\tAT1G71695\tAT1G71695\t131\n",
      "AT1G58983.1\tthree_prime_utr\tchr1:21805932-21806278\tchr1\t21806278\t21805932\t-\t.\tAT1G58983\tAT1G58983\tAT1G58983\t347\n",
      "AT1G12980.1\tthree_prime_utr\tchr1:4430778-4430965\tchr1\t4430778\t4430965\t+\t.\tESR1\tAT1G12980\tAT1G12980\t188\n",
      "AT1G45223.1\tthree_prime_utr\tchr1:17141620-17141771\tchr1\t17141620\t17141771\t+\t.\tAT1G45223\tAT1G45223\tAT1G45223\t152\n"
     ]
    }
   ],
   "source": [
    "%%bash\n",
    "cd ../PRUEBAS/\n",
    "awk 'NR==FNR{a[$1]=$0; next} $10 in a{split(a[$10], arr, \" \"); print arr[1], $3, arr[2], $1, $4, $5, $7, $6, $11, $9, $9, arr[4]}' Araport11_3_utr_20220914.txt GTF_three_prime_utr_final.txt|awk '{$1=$1};1' OFS='\\t'|awk 'BEGIN{OFS=\"\\t\"} {if ($7 == \"-\") {temp = $5; $5 = $6; $6 = temp} else if ($7 == \"+\") {$5 = $5; $6 = $6} print}'|head"
   ]
  },
  {
   "attachments": {},
   "cell_type": "markdown",
   "metadata": {},
   "source": [
    "Como observamos, ahora funciona correctamente, lo unico que queda es cambiar el - entre las lecturas de la columna 3"
   ]
  },
  {
   "cell_type": "code",
   "execution_count": 41,
   "metadata": {},
   "outputs": [
    {
     "name": "stdout",
     "output_type": "stream",
     "text": [
      "AT1G30814.1\tthree_prime_utr\tchr1:10942648..10942825\tchr1\t10942825\t10942648\t-\t.\tAT1G30814\tAT1G30814\tAT1G30814\t178\n",
      "AT1G30814.4\tthree_prime_utr\tchr1:10942648..10942825\tchr1\t10942825\t10942648\t-\t.\tAT1G30814\tAT1G30814\tAT1G30814\t178\n",
      "AT1G30814.2\tthree_prime_utr\tchr1:10942663..10943138\tchr1\t10943138\t10943007\t-\t.\tAT1G30814\tAT1G30814\tAT1G30814\t379\n",
      "AT1G30814.2\tthree_prime_utr\tchr1:10942663..10943138\tchr1\t10942909\t10942663\t-\t.\tAT1G30814\tAT1G30814\tAT1G30814\t379\n",
      "AT1G30814.3\tthree_prime_utr\tchr1:10942648..10942825\tchr1\t10942825\t10942648\t-\t.\tAT1G30814\tAT1G30814\tAT1G30814\t178\n",
      "AT1G78930.1\tthree_prime_utr\tchr1:29677904..29678284\tchr1\t29678284\t29677904\t-\t.\tAT1G78930\tAT1G78930\tAT1G78930\t381\n",
      "AT1G71695.1\tthree_prime_utr\tchr1:26966558..26966688\tchr1\t26966558\t26966688\t+\t.\tAT1G71695\tAT1G71695\tAT1G71695\t131\n",
      "AT1G58983.1\tthree_prime_utr\tchr1:21805932..21806278\tchr1\t21806278\t21805932\t-\t.\tAT1G58983\tAT1G58983\tAT1G58983\t347\n",
      "AT1G12980.1\tthree_prime_utr\tchr1:4430778..4430965\tchr1\t4430778\t4430965\t+\t.\tESR1\tAT1G12980\tAT1G12980\t188\n",
      "AT1G45223.1\tthree_prime_utr\tchr1:17141620..17141771\tchr1\t17141620\t17141771\t+\t.\tAT1G45223\tAT1G45223\tAT1G45223\t152\n"
     ]
    }
   ],
   "source": [
    "%%bash\n",
    "\n",
    "cd ../PRUEBAS/\n",
    "awk 'NR==FNR{a[$1]=$0; next} $10 in a{split(a[$10], arr, \" \"); print arr[1], $3, arr[2], $1, $4, $5, $7, $6, $11, $9, $9, arr[4]}' Araport11_3_utr_20220914.txt GTF_three_prime_utr_final.txt|awk '{$1=$1};1' OFS='\\t'|awk 'BEGIN{OFS=\"\\t\"} {if ($7 == \"-\") {temp = $5; $5 = $6; $6 = temp} else if ($7 == \"+\") {$5 = $5; $6 = $6} print}'|awk -F'\\t' 'BEGIN{OFS=\"\\t\"} {gsub(\"-\", \"..\", $3); print}'|head"
   ]
  },
  {
   "attachments": {},
   "cell_type": "markdown",
   "metadata": {},
   "source": [
    "PERFECTO, HASTA AQUI SE SOLUCIONA LA PARTE DE LA CREACION DE LOS ARCHIVOS"
   ]
  },
  {
   "attachments": {},
   "cell_type": "markdown",
   "metadata": {},
   "source": [
    "PERO, SE TIENE UN SERIO PROBLEMA, EL CUAL ES EL SIGUIENTE O SE TRABAJA CON ARAPORT11 O CON LOS DATOS DE TAIR10"
   ]
  },
  {
   "attachments": {},
   "cell_type": "markdown",
   "metadata": {},
   "source": [
    "POR LO QUE PRIMERO, VOY A TRABAJAR CON LOS DATOS DE TAIR10 de ensembl  \n",
    "Aqui esta el GFT https://ftp.ebi.ac.uk/ensemblgenomes/pub/release-56/plants/gtf/arabidopsis_thaliana/  \n",
    "Los fasta se encuentran aqui https://ftp.ebi.ac.uk/ensemblgenomes/pub/release-56/plants/fasta/arabidopsis_thaliana/  \n",
    "->cdna  \n",
    "->cds  \n",
    "->dna  \n",
    "->dna_index  \n",
    "->ncrna  \n"
   ]
  },
  {
   "attachments": {},
   "cell_type": "markdown",
   "metadata": {},
   "source": [
    "PARA TRABAJAR CON LOS DATOS DE TAIR10 de arabidopsis.org  \n",
    "Aqui estan los datos de TAIR10 https://www.arabidopsis.org/download/index-auto.jsp?dir=%2Fdownload_files%2FSequences%2FTAIR10_blastsets  \n",
    "->3utr  \n",
    "->5utr  \n",
    "->cdna  \n",
    "->cds  \n",
    "->exons  \n",
    "->intergenic  \n",
    "->intron  \n",
    "->seq  \n",
    "->downstream  \n",
    "->upstream  "
   ]
  },
  {
   "attachments": {},
   "cell_type": "markdown",
   "metadata": {},
   "source": [
    "PERO SI QUIERO TRABAJAR TODO CON TAIR11, EN DONDE ENCUENTRO LAS OTRAS SECUENCIAS???"
   ]
  },
  {
   "attachments": {},
   "cell_type": "markdown",
   "metadata": {},
   "source": [
    "Lo puedo descargar de esta pagina: https://www.arabidopsis.org/download/index-auto.jsp?dir=%2Fdownload_files%2FGenes%2FAraport11_genome_release"
   ]
  },
  {
   "cell_type": "code",
   "execution_count": null,
   "metadata": {},
   "outputs": [],
   "source": [
    "%%bash\n",
    "cd ../TAIR10/\n",
    "wget --no-check-certificate \"https://ftp.ebi.ac.uk/ensemblgenomes/pub/release-56/plants/gtf/arabidopsis_thaliana/Arabidopsis_thaliana.TAIR10.56.gtf.gz\"\n",
    "wget --no-check-certificate \"https://ftp.ebi.ac.uk/ensemblgenomes/pub/release-56/plants/fasta/arabidopsis_thaliana/ncrna/Arabidopsis_thaliana.TAIR10.ncrna.fa.gz\"\n",
    "wget --no-check-certificate \"https://ftp.ebi.ac.uk/ensemblgenomes/pub/release-56/plants/fasta/arabidopsis_thaliana/dna_index/Arabidopsis_thaliana.TAIR10.dna.toplevel.fa.gz\"\n",
    "wget --no-check-certificate \"https://www.arabidopsis.org/download_files/Sequences/TAIR10_blastsets/TAIR10_3_utr_20101028\"\n",
    "wget --no-check-certificate \"https://www.arabidopsis.org/download_files/Sequences/TAIR10_blastsets/TAIR10_5_utr_20101028\"\n",
    "wget --no-check-certificate \"https://www.arabidopsis.org/download_files/Sequences/TAIR10_blastsets/TAIR10_exon_20101028\"\n",
    "wget --no-check-certificate \"https://www.arabidopsis.org/download_files/Sequences/TAIR10_blastsets/TAIR10_intergenic_20101028\"\n",
    "wget --no-check-certificate \"https://www.arabidopsis.org/download_files/Sequences/TAIR10_blastsets/TAIR10_intron_20101028\"\n",
    "wget --no-check-certificate \"https://www.arabidopsis.org/download_files/Sequences/TAIR10_blastsets/TAIR10_seq_20101214\""
   ]
  },
  {
   "cell_type": "code",
   "execution_count": 40,
   "metadata": {},
   "outputs": [
    {
     "name": "stdout",
     "output_type": "stream",
     "text": [
      "Arabidopsis_thaliana.TAIR10.56.gtf\n",
      "Arabidopsis_thaliana.TAIR10.dna.toplevel.fa\n",
      "Arabidopsis_thaliana.TAIR10.ncrna.fa\n",
      "gtf_tair10_3UTR.txt\n",
      "TAIR10_3_utr_20101028.fa\n",
      "TAIR10_5_utr_20101028.fa\n",
      "TAIR10_exon_20101028.fa\n",
      "TAIR10_intergenic_20101028.fa\n",
      "TAIR10_intron_20101028.fa\n",
      "TAIR10_seq_20101214.fa\n"
     ]
    }
   ],
   "source": [
    "%%bash\n",
    "cd ../TAIR10/\n",
    "ls"
   ]
  },
  {
   "cell_type": "code",
   "execution_count": null,
   "metadata": {},
   "outputs": [],
   "source": [
    "%%bash\n",
    "cd ../TAIR10/\n",
    "gzip -d *.gz\n",
    "mv TAIR10_3_utr_20101028 TAIR10_3_utr_20101028.fa\n",
    "mv TAIR10_5_utr_20101028 TAIR10_5_utr_20101028.fa\n",
    "mv TAIR10_exon_20101028 TAIR10_exon_20101028.fa\n",
    "mv TAIR10_intergenic_20101028 TAIR10_intergenic_20101028.fa\n",
    "mv TAIR10_intron_20101028 TAIR10_intron_20101028.fa\n",
    "mv TAIR10_seq_20101214 TAIR10_seq_20101214.fa\n"
   ]
  },
  {
   "cell_type": "code",
   "execution_count": 39,
   "metadata": {},
   "outputs": [
    {
     "name": "stdout",
     "output_type": "stream",
     "text": [
      "Arabidopsis_thaliana.TAIR10.56.gtf\n",
      "Arabidopsis_thaliana.TAIR10.dna.toplevel.fa\n",
      "Arabidopsis_thaliana.TAIR10.ncrna.fa\n",
      "gtf_tair10_3UTR.txt\n",
      "TAIR10_3_utr_20101028.fa\n",
      "TAIR10_5_utr_20101028.fa\n",
      "TAIR10_exon_20101028.fa\n",
      "TAIR10_intergenic_20101028.fa\n",
      "TAIR10_intron_20101028.fa\n",
      "TAIR10_seq_20101214.fa\n"
     ]
    }
   ],
   "source": [
    "%%bash\n",
    "cd ../TAIR10/\n",
    "ls"
   ]
  },
  {
   "attachments": {},
   "cell_type": "markdown",
   "metadata": {},
   "source": [
    "Lo primero que voy a ver es si ahora si se tienen la misma cantidad de lecturas para el 3'UTR en el GTF y en el fasta"
   ]
  },
  {
   "cell_type": "code",
   "execution_count": 79,
   "metadata": {},
   "outputs": [
    {
     "name": "stdout",
     "output_type": "stream",
     "text": [
      "1\taraport11\tthree_prime_utr\t10942648\t10942825\t.\t-\t.\tgene_id \"AT1G30814\"; transcript_id \"AT1G30814.1\"; gene_name \"AT1G30814\"; gene_source \"araport11\"; gene_biotype \"protein_coding\"; transcript_name \"AT1G30814-203\"; transcript_source \"araport11\"; transcript_biotype \"protein_coding\"; tag \"Ensembl_canonical\";\n",
      "1\taraport11\tthree_prime_utr\t10942648\t10942825\t.\t-\t.\tgene_id \"AT1G30814\"; transcript_id \"AT1G30814.4\"; gene_name \"AT1G30814\"; gene_source \"araport11\"; gene_biotype \"protein_coding\"; transcript_name \"AT1G30814-202\"; transcript_source \"araport11\"; transcript_biotype \"protein_coding\";\n",
      "1\taraport11\tthree_prime_utr\t10943007\t10943138\t.\t-\t.\tgene_id \"AT1G30814\"; transcript_id \"AT1G30814.2\"; gene_name \"AT1G30814\"; gene_source \"araport11\"; gene_biotype \"protein_coding\"; transcript_name \"AT1G30814-204\"; transcript_source \"araport11\"; transcript_biotype \"protein_coding\";\n",
      "1\taraport11\tthree_prime_utr\t10942663\t10942909\t.\t-\t.\tgene_id \"AT1G30814\"; transcript_id \"AT1G30814.2\"; gene_name \"AT1G30814\"; gene_source \"araport11\"; gene_biotype \"protein_coding\"; transcript_name \"AT1G30814-204\"; transcript_source \"araport11\"; transcript_biotype \"protein_coding\";\n",
      "1\taraport11\tthree_prime_utr\t10942648\t10942825\t.\t-\t.\tgene_id \"AT1G30814\"; transcript_id \"AT1G30814.3\"; gene_name \"AT1G30814\"; gene_source \"araport11\"; gene_biotype \"protein_coding\"; transcript_name \"AT1G30814-201\"; transcript_source \"araport11\"; transcript_biotype \"protein_coding\";\n",
      "1\taraport11\tthree_prime_utr\t29677904\t29678284\t.\t-\t.\tgene_id \"AT1G78930\"; transcript_id \"AT1G78930.1\"; gene_name \"AT1G78930\"; gene_source \"araport11\"; gene_biotype \"protein_coding\"; transcript_name \"AT1G78930-201\"; transcript_source \"araport11\"; transcript_biotype \"protein_coding\"; tag \"Ensembl_canonical\";\n",
      "1\taraport11\tthree_prime_utr\t26966558\t26966688\t.\t+\t.\tgene_id \"AT1G71695\"; transcript_id \"AT1G71695.1\"; gene_name \"AT1G71695\"; gene_source \"araport11\"; gene_biotype \"protein_coding\"; transcript_name \"AT1G71695-201\"; transcript_source \"araport11\"; transcript_biotype \"protein_coding\"; tag \"Ensembl_canonical\";\n",
      "1\taraport11\tthree_prime_utr\t21805932\t21806278\t.\t-\t.\tgene_id \"AT1G58983\"; transcript_id \"AT1G58983.1\"; gene_name \"AT1G58983\"; gene_source \"araport11\"; gene_biotype \"protein_coding\"; transcript_name \"AT1G58983-201\"; transcript_source \"araport11\"; transcript_biotype \"protein_coding\"; tag \"Ensembl_canonical\";\n",
      "1\taraport11\tthree_prime_utr\t4430778\t4430965\t.\t+\t.\tgene_id \"AT1G12980\"; transcript_id \"AT1G12980.1\"; gene_name \"ESR1\"; gene_source \"araport11\"; gene_biotype \"protein_coding\"; transcript_name \"ESR1-201\"; transcript_source \"araport11\"; transcript_biotype \"protein_coding\"; tag \"Ensembl_canonical\";\n",
      "1\taraport11\tthree_prime_utr\t17141620\t17141771\t.\t+\t.\tgene_id \"AT1G45223\"; transcript_id \"AT1G45223.1\"; gene_name \"AT1G45223\"; gene_source \"araport11\"; gene_biotype \"protein_coding\"; transcript_name \"AT1G45223-201\"; transcript_source \"araport11\"; transcript_biotype \"protein_coding\"; tag \"Ensembl_canonical\";\n"
     ]
    }
   ],
   "source": [
    "%%bash\n",
    "cd ../TAIR10/\n",
    "grep -v '##\\|#!' Arabidopsis_thaliana.TAIR10.56.gtf | grep 'three_prime_utr'|head \n"
   ]
  },
  {
   "cell_type": "code",
   "execution_count": 83,
   "metadata": {},
   "outputs": [
    {
     "name": "stdout",
     "output_type": "stream",
     "text": [
      "chr1\taraport11\tthree_prime_utr\t10942648\t10942825\t.\t-\t.\tgene_id\tAT1G30814\ttranscript_id\tAT1G30814.1\tgene_name\tAT1G30814\ttranscript_name\tAT1G30814-203\n",
      "chr1\taraport11\tthree_prime_utr\t10942648\t10942825\t.\t-\t.\tgene_id\tAT1G30814\ttranscript_id\tAT1G30814.4\tgene_name\tAT1G30814\ttranscript_name\tAT1G30814-202\n",
      "chr1\taraport11\tthree_prime_utr\t10943007\t10943138\t.\t-\t.\tgene_id\tAT1G30814\ttranscript_id\tAT1G30814.2\tgene_name\tAT1G30814\ttranscript_name\tAT1G30814-204\n",
      "chr1\taraport11\tthree_prime_utr\t10942663\t10942909\t.\t-\t.\tgene_id\tAT1G30814\ttranscript_id\tAT1G30814.2\tgene_name\tAT1G30814\ttranscript_name\tAT1G30814-204\n",
      "chr1\taraport11\tthree_prime_utr\t10942648\t10942825\t.\t-\t.\tgene_id\tAT1G30814\ttranscript_id\tAT1G30814.3\tgene_name\tAT1G30814\ttranscript_name\tAT1G30814-201\n",
      "chr1\taraport11\tthree_prime_utr\t29677904\t29678284\t.\t-\t.\tgene_id\tAT1G78930\ttranscript_id\tAT1G78930.1\tgene_name\tAT1G78930\ttranscript_name\tAT1G78930-201\n",
      "chr1\taraport11\tthree_prime_utr\t26966558\t26966688\t.\t+\t.\tgene_id\tAT1G71695\ttranscript_id\tAT1G71695.1\tgene_name\tAT1G71695\ttranscript_name\tAT1G71695-201\n",
      "chr1\taraport11\tthree_prime_utr\t21805932\t21806278\t.\t-\t.\tgene_id\tAT1G58983\ttranscript_id\tAT1G58983.1\tgene_name\tAT1G58983\ttranscript_name\tAT1G58983-201\n",
      "chr1\taraport11\tthree_prime_utr\t4430778\t4430965\t.\t+\t.\tgene_id\tAT1G12980\ttranscript_id\tAT1G12980.1\tgene_name\tESR1\ttranscript_name\tESR1-201\n",
      "chr1\taraport11\tthree_prime_utr\t17141620\t17141771\t.\t+\t.\tgene_id\tAT1G45223\ttranscript_id\tAT1G45223.1\tgene_name\tAT1G45223\ttranscript_name\tAT1G45223-201\n"
     ]
    }
   ],
   "source": [
    "%%bash\n",
    "cd ../TAIR10/\n",
    "#grep -v '##\\|#!' Arabidopsis_thaliana.TAIR10.56.gtf | grep 'three_prime_utr'|awk -F'\\t' 'BEGIN{OFS=\"\\t\"} {gsub(/\"/, \"\", $9); split($9, arr, \"; \"); print $1, $2, $3, $4, $5, $6, $7, $8, arr[1], arr[2], arr[3], arr[6]}'|head\n",
    "\n",
    "grep -v '##\\|#!' Arabidopsis_thaliana.TAIR10.56.gtf | grep 'three_prime_utr'|awk -F'\\t' 'BEGIN{OFS=\"\\t\"} {gsub(/\"/, \"\", $9); split($9, arr, \"; \"); print $1, $2, $3, $4, $5, $6, $7, $8, arr[1], arr[2], arr[3], arr[6]}'|awk '{$1 = \"chr\" $1; print}'|awk '{$1=$1};1' OFS='\\t'|head"
   ]
  },
  {
   "attachments": {},
   "cell_type": "markdown",
   "metadata": {},
   "source": [
    "Se ve bien pero aun se tiene que eliminar las palabras."
   ]
  },
  {
   "cell_type": "code",
   "execution_count": 86,
   "metadata": {},
   "outputs": [
    {
     "name": "stdout",
     "output_type": "stream",
     "text": [
      "chr1\taraport11\tthree_prime_utr\t10942648\t10942825\t.\t-\t.\tAT1G30814\tAT1G30814.1\tAT1G30814\tAT1G30814-203\n",
      "chr1\taraport11\tthree_prime_utr\t10942648\t10942825\t.\t-\t.\tAT1G30814\tAT1G30814.4\tAT1G30814\tAT1G30814-202\n",
      "chr1\taraport11\tthree_prime_utr\t10943007\t10943138\t.\t-\t.\tAT1G30814\tAT1G30814.2\tAT1G30814\tAT1G30814-204\n",
      "chr1\taraport11\tthree_prime_utr\t10942663\t10942909\t.\t-\t.\tAT1G30814\tAT1G30814.2\tAT1G30814\tAT1G30814-204\n",
      "chr1\taraport11\tthree_prime_utr\t10942648\t10942825\t.\t-\t.\tAT1G30814\tAT1G30814.3\tAT1G30814\tAT1G30814-201\n",
      "chr1\taraport11\tthree_prime_utr\t29677904\t29678284\t.\t-\t.\tAT1G78930\tAT1G78930.1\tAT1G78930\tAT1G78930-201\n",
      "chr1\taraport11\tthree_prime_utr\t26966558\t26966688\t.\t+\t.\tAT1G71695\tAT1G71695.1\tAT1G71695\tAT1G71695-201\n",
      "chr1\taraport11\tthree_prime_utr\t21805932\t21806278\t.\t-\t.\tAT1G58983\tAT1G58983.1\tAT1G58983\tAT1G58983-201\n",
      "chr1\taraport11\tthree_prime_utr\t4430778\t4430965\t.\t+\t.\tAT1G12980\tAT1G12980.1\tESR1\tESR1-201\n",
      "chr1\taraport11\tthree_prime_utr\t17141620\t17141771\t.\t+\t.\tAT1G45223\tAT1G45223.1\tAT1G45223\tAT1G45223-201\n"
     ]
    }
   ],
   "source": [
    "%%bash\n",
    "cd ../TAIR10/\n",
    "#grep -v '##\\|#!' Arabidopsis_thaliana.TAIR10.56.gtf | grep 'three_prime_utr'|awk -F'\\t' 'BEGIN{OFS=\"\\t\"} {gsub(/\"/, \"\", $9); split($9, arr, \"; \"); print $1, $2, $3, $4, $5, $6, $7, $8, arr[1], arr[2], arr[3], arr[6]}'| sed -e 's/gene_id //g' -e 's/transcript_id //g' -e 's/gene_name //g' -e 's/transcript_name //g'|head\n",
    "grep -v '##\\|#!' Arabidopsis_thaliana.TAIR10.56.gtf | grep 'three_prime_utr'|awk -F'\\t' 'BEGIN{OFS=\"\\t\"} {gsub(/\"/, \"\", $9); split($9, arr, \"; \"); print $1, $2, $3, $4, $5, $6, $7, $8, arr[1], arr[2], arr[3], arr[6]}'|sed -e 's/gene_id //g' -e 's/transcript_id //g' -e 's/gene_name //g' -e 's/transcript_name //g'|awk '{$1 = \"chr\" $1; print}'|awk '{$1=$1};1' OFS='\\t'|head\n",
    "\n",
    "#grep -v '##\\|#!' Arabidopsis_thaliana.TAIR10.56.gtf | grep 'three_prime_utr'|awk -F'\\t' 'BEGIN{OFS=\"\\t\"} {gsub(/\"/, \"\", $9); split($9, arr, \"; \"); print $1, $2, $3, $4, $5, $6, $7, $8, arr[1], arr[2], arr[3], arr[6]}'|sed -e 's/gene_id //g' -e 's/transcript_id //g' -e 's/gene_name //g' -e 's/transcript_name //g'|awk '{$1 = \"chr\" $1; print}'|awk '{$1=$1};1' OFS='\\t'|cut -f2|head"
   ]
  },
  {
   "attachments": {},
   "cell_type": "markdown",
   "metadata": {},
   "source": [
    "Perfecto, ahora unicamente se debe de guardar el archivo.\n",
    "## Este es el comando para el notebook final, para generar todos las anotaciones del GTF"
   ]
  },
  {
   "cell_type": "code",
   "execution_count": 87,
   "metadata": {},
   "outputs": [],
   "source": [
    "%%bash\n",
    "cd ../TAIR10/\n",
    "grep -v '##\\|#!' Arabidopsis_thaliana.TAIR10.56.gtf | grep 'three_prime_utr'|awk -F'\\t' 'BEGIN{OFS=\"\\t\"} {gsub(/\"/, \"\", $9); split($9, arr, \"; \"); print $1, $2, $3, $4, $5, $6, $7, $8, arr[1], arr[2], arr[3], arr[6]}'| sed -e 's/gene_id //g' -e 's/transcript_id //g' -e 's/gene_name //g' -e 's/transcript_name //g'| awk '{$1 = \"chr\" $1; print}'| awk '{$1=$1};1' OFS='\\t'> gtf_tair10_3UTR.txt"
   ]
  },
  {
   "attachments": {},
   "cell_type": "markdown",
   "metadata": {},
   "source": [
    "Muy bien, ahora con el archivo listo, se hace el recuento de cuantas anotaciones del 3UTR se tiene en el GTF de TAIR10"
   ]
  },
  {
   "cell_type": "code",
   "execution_count": 33,
   "metadata": {},
   "outputs": [
    {
     "name": "stdout",
     "output_type": "stream",
     "text": [
      "42322\n"
     ]
    }
   ],
   "source": [
    "%%bash\n",
    "cd ../TAIR10/\n",
    "cut -f10  gtf_tair10_3UTR.txt|sort|uniq|wc -l"
   ]
  },
  {
   "attachments": {},
   "cell_type": "markdown",
   "metadata": {},
   "source": [
    "Ahora toca realizar lo mismo, pero con el archivo del fasta"
   ]
  },
  {
   "cell_type": "code",
   "execution_count": 32,
   "metadata": {},
   "outputs": [
    {
     "name": "stdout",
     "output_type": "stream",
     "text": [
      ">AT1G51370.2 | [1135-1211] | chr1:19046749-19046825 FORWARD LENGTH=77\n",
      ">AT1G50920.1 | [2433-2446] [2547-2792] | chr1:18872571-18872930 FORWARD LENGTH=260\n",
      ">AT1G44020.1 | [1966-2545] | chr1:16716112-16716691 REVERSE LENGTH=580\n",
      ">AT1G15970.1 | [2326-2550] | chr1:5486319-5486543 REVERSE LENGTH=225\n",
      ">AT1G73440.1 | [821-1453] | chr1:27612183-27612815 FORWARD LENGTH=633\n",
      ">AT1G75120.1 | [1782-1946] | chr1:28196857-28197021 REVERSE LENGTH=165\n",
      ">AT1G17600.1 | [3640-3729] | chr1:6052936-6053025 REVERSE LENGTH=90\n",
      ">AT1G51380.1 | [2087-2281] | chr1:19049968-19050162 FORWARD LENGTH=195\n",
      ">AT1G77370.1 | [801-954] | chr1:29074643-29074796 FORWARD LENGTH=154\n",
      ">AT1G10950.1 | [4415-4776] | chr1:3663623-3663984 FORWARD LENGTH=362\n"
     ]
    }
   ],
   "source": [
    "%%bash\n",
    "cd ../TAIR10/\n",
    "grep '>' TAIR10_3_utr_20101028.fa|head "
   ]
  },
  {
   "attachments": {},
   "cell_type": "markdown",
   "metadata": {},
   "source": [
    "Basicamente me toca repetir lo que se hizo anteriromente:"
   ]
  },
  {
   "cell_type": "code",
   "execution_count": 31,
   "metadata": {},
   "outputs": [
    {
     "name": "stdout",
     "output_type": "stream",
     "text": [
      "AT1G51370.2\tchr1:19046749-19046825\tFORWARD\t77\n",
      "AT1G50920.1\tchr1:18872571-18872930\tFORWARD\t260\n",
      "AT1G44020.1\tchr1:16716112-16716691\tREVERSE\t580\n",
      "AT1G15970.1\tchr1:5486319-5486543\tREVERSE\t225\n",
      "AT1G73440.1\tchr1:27612183-27612815\tFORWARD\t633\n",
      "AT1G75120.1\tchr1:28196857-28197021\tREVERSE\t165\n",
      "AT1G17600.1\tchr1:6052936-6053025\tREVERSE\t90\n",
      "AT1G51380.1\tchr1:19049968-19050162\tFORWARD\t195\n",
      "AT1G77370.1\tchr1:29074643-29074796\tFORWARD\t154\n",
      "AT1G10950.1\tchr1:3663623-3663984\tFORWARD\t362\n"
     ]
    }
   ],
   "source": [
    "%%bash\n",
    "cd ../TAIR10/\n",
    "grep '>' TAIR10_3_utr_20101028.fa | sed -e 's/|[^|]*|//g' -e 's/>//g' -e 's/LENGTH=//g' | awk '{$1=$1};1' OFS='\\t'|head"
   ]
  },
  {
   "attachments": {},
   "cell_type": "markdown",
   "metadata": {},
   "source": [
    "## Este es el comando para generar los encabezados del fasta"
   ]
  },
  {
   "cell_type": "code",
   "execution_count": 56,
   "metadata": {},
   "outputs": [],
   "source": [
    "%%bash\n",
    "cd ../TAIR10/\n",
    "grep '>' TAIR10_3_utr_20101028.fa | sed -e 's/|[^|]*|//g' -e 's/>//g' -e 's/LENGTH=//g' | awk '{$1=$1};1' OFS='\\t' > TAIR10_3_utr_20101028_head.txt"
   ]
  },
  {
   "attachments": {},
   "cell_type": "markdown",
   "metadata": {},
   "source": [
    "Este es el numero de anotaciones del fasta que son diferentes"
   ]
  },
  {
   "cell_type": "code",
   "execution_count": 58,
   "metadata": {},
   "outputs": [
    {
     "name": "stdout",
     "output_type": "stream",
     "text": [
      "28049\n"
     ]
    }
   ],
   "source": [
    "%%bash\n",
    "cd ../TAIR10/\n",
    "cut -f1 TAIR10_3_utr_20101028_head.txt|sort|uniq|wc -l"
   ]
  },
  {
   "attachments": {},
   "cell_type": "markdown",
   "metadata": {},
   "source": [
    "Eso es un problema, ya que en el GTF se tienen 42322 y en el fasta solo 28049."
   ]
  },
  {
   "attachments": {},
   "cell_type": "markdown",
   "metadata": {},
   "source": [
    "Por lo que para tratar de solucionar este inconveniente, se optara por la siguiente estrategia:\n",
    "Comparar los dos archivos y dejar unicamente los 28049 del fasta, pero tal vez esto no sea necesario, porque si son unicos, solo deberian de coincidir, los 28049 del fasta."
   ]
  },
  {
   "attachments": {},
   "cell_type": "markdown",
   "metadata": {},
   "source": [
    "Primero debe de comprobar esto, haciendo la comparacion:"
   ]
  },
  {
   "cell_type": "code",
   "execution_count": 88,
   "metadata": {},
   "outputs": [
    {
     "name": "stdout",
     "output_type": "stream",
     "text": [
      "AT1G30814.1\tthree_prime_utr\tchr1:10942648..10942825\tchr1\t10942825\t10942648\t-\t.\tAT1G30814\tAT1G30814\tAT1G30814\t178\n",
      "AT1G30814.2\tthree_prime_utr\tchr1:10942663..10943138\tchr1\t10943138\t10943007\t-\t.\tAT1G30814\tAT1G30814\tAT1G30814\t379\n",
      "AT1G30814.2\tthree_prime_utr\tchr1:10942663..10943138\tchr1\t10942909\t10942663\t-\t.\tAT1G30814\tAT1G30814\tAT1G30814\t379\n",
      "AT1G30814.3\tthree_prime_utr\tchr1:10942648..10942825\tchr1\t10942825\t10942648\t-\t.\tAT1G30814\tAT1G30814\tAT1G30814\t178\n",
      "AT1G78930.1\tthree_prime_utr\tchr1:29678097..29678284\tchr1\t29678284\t29677904\t-\t.\tAT1G78930\tAT1G78930\tAT1G78930\t188\n",
      "AT1G71695.1\tthree_prime_utr\tchr1:26966558..26966688\tchr1\t26966558\t26966688\t+\t.\tAT1G71695\tAT1G71695\tAT1G71695\t131\n",
      "AT1G58983.1\tthree_prime_utr\tchr1:21806020..21806278\tchr1\t21806278\t21805932\t-\t.\tAT1G58983\tAT1G58983\tAT1G58983\t259\n",
      "AT1G12980.1\tthree_prime_utr\tchr1:4430778..4430965\tchr1\t4430778\t4430965\t+\t.\tESR1\tAT1G12980\tAT1G12980\t188\n",
      "AT1G45223.1\tthree_prime_utr\tchr1:17141620..17141771\tchr1\t17141620\t17141771\t+\t.\tAT1G45223\tAT1G45223\tAT1G45223\t152\n",
      "AT1G56250.1\tthree_prime_utr\tchr1:21061600..21061745\tchr1\t21061745\t21061522\t-\t.\tPP2-B14\tAT1G56250\tAT1G56250\t146\n"
     ]
    }
   ],
   "source": [
    "%%bash\n",
    "\n",
    "cd ../TAIR10/\n",
    "awk 'NR==FNR{a[$1]=$0; next} $10 in a{split(a[$10], arr, \" \"); print arr[1], $3, arr[2], $1, $4, $5, $7, $6, $11, $9, $9, arr[4]}' TAIR10_3_utr_20101028_head.txt gtf_tair10_3UTR.txt|awk '{$1=$1};1' OFS='\\t'|awk 'BEGIN{OFS=\"\\t\"} {if ($7 == \"-\") {temp = $5; $5 = $6; $6 = temp} else if ($7 == \"+\") {$5 = $5; $6 = $6} print}'|awk -F'\\t' 'BEGIN{OFS=\"\\t\"} {gsub(\"-\", \"..\", $3); print}'|head"
   ]
  },
  {
   "cell_type": "code",
   "execution_count": 89,
   "metadata": {},
   "outputs": [],
   "source": [
    "%%bash\n",
    "\n",
    "cd ../TAIR10/\n",
    "awk 'NR==FNR{a[$1]=$0; next} $10 in a{split(a[$10], arr, \" \"); print arr[1], $3, arr[2], $1, $4, $5, $7, $6, $11, $9, $9, arr[4]}' TAIR10_3_utr_20101028_head.txt gtf_tair10_3UTR.txt|awk '{$1=$1};1' OFS='\\t'|awk 'BEGIN{OFS=\"\\t\"} {if ($7 == \"-\") {temp = $5; $5 = $6; $6 = temp} else if ($7 == \"+\") {$5 = $5; $6 = $6} print}'|awk -F'\\t' 'BEGIN{OFS=\"\\t\"} {gsub(\"-\", \"..\", $3); print}'>3UTR.coords.dict"
   ]
  },
  {
   "attachments": {},
   "cell_type": "markdown",
   "metadata": {},
   "source": [
    "El comando funciona, ahora toca contar el numero de contactos totales y unicos:"
   ]
  },
  {
   "cell_type": "code",
   "execution_count": 90,
   "metadata": {},
   "outputs": [
    {
     "name": "stdout",
     "output_type": "stream",
     "text": [
      "30316 3UTR.coords.dict\n",
      "27719\n"
     ]
    }
   ],
   "source": [
    "%%bash\n",
    "cd ../TAIR10/\n",
    "wc -l 3UTR.coords.dict\n",
    "cut -f1 3UTR.coords.dict|sort|uniq|wc -l"
   ]
  },
  {
   "attachments": {},
   "cell_type": "markdown",
   "metadata": {},
   "source": [
    "Vemos que los uniq son diferentes, ahora con el siguiente script se va a imprimir solo las coincidencias de los archivos con el id del transcrito"
   ]
  },
  {
   "cell_type": "code",
   "execution_count": 91,
   "metadata": {},
   "outputs": [],
   "source": [
    "import os\n",
    "\n",
    "directorio = \"../TAIR10/\"\n",
    "os.chdir(directorio)\n",
    "\n",
    "def comparar_archivos(archivo1, archivo2, archivo_salida):\n",
    "    # Leer el contenido del archivo 1\n",
    "    with open(archivo1, 'r') as file1:\n",
    "        columnas_archivo1 = [line.split('\\t')[0] for line in file1]  # Obtener los valores de la columna 1\n",
    "\n",
    "    # Leer el contenido del archivo 2\n",
    "    with open(archivo2, 'r') as file2:\n",
    "        columnas_archivo2 = [line.split('\\t')[9] for line in file2]  # Obtener los valores de la columna 10\n",
    "\n",
    "    # Comparar y escribir las coincidencias en el archivo de salida\n",
    "    coincidencias = set(columnas_archivo1) & set(columnas_archivo2)\n",
    "    with open(archivo_salida, 'w') as file_salida:\n",
    "        for coincidencia in coincidencias:\n",
    "            print(coincidencia, file=file_salida)\n",
    "\n",
    "# Ejemplo de uso\n",
    "archivo1 = 'TAIR10_3_utr_20101028_head.txt'\n",
    "archivo2 = 'gtf_tair10_3UTR.txt'\n",
    "archivo_salida = 'resultados.txt'\n",
    "comparar_archivos(archivo1, archivo2, archivo_salida)\n",
    "\n",
    "\n",
    "\n"
   ]
  },
  {
   "cell_type": "code",
   "execution_count": 92,
   "metadata": {},
   "outputs": [
    {
     "name": "stdout",
     "output_type": "stream",
     "text": [
      "27719 resultados.txt\n",
      "27719\n"
     ]
    }
   ],
   "source": [
    "%%bash\n",
    "cd ../TAIR10/\n",
    "\n",
    "wc -l resultados.txt\n",
    "\n",
    "sort resultados.txt|uniq|wc -l"
   ]
  },
  {
   "attachments": {},
   "cell_type": "markdown",
   "metadata": {},
   "source": [
    "Como el resultado es el mismo que el que se obtiene haciendo uniq al comando de awk, al menos esto tiene consistencia."
   ]
  },
  {
   "attachments": {},
   "cell_type": "markdown",
   "metadata": {},
   "source": [
    "Ordeno el archivo y veo que le pasa a los repetidos"
   ]
  },
  {
   "cell_type": "code",
   "execution_count": 95,
   "metadata": {},
   "outputs": [
    {
     "name": "stdout",
     "output_type": "stream",
     "text": [
      "AT5G67630.1\tthree_prime_utr\tchr5:26967381..26967534\tchr5\t26967534\t26967378\t-\t.\tAT5G67630\tAT5G67630\tAT5G67630\t154\n",
      "AT5G67620.1\tthree_prime_utr\tchr5:26964770..26964890\tchr5\t26964890\t26964551\t-\t.\tAT5G67620\tAT5G67620\tAT5G67620\t121\n",
      "AT5G67610.2\tthree_prime_utr\tchr5:26960931..26961223\tchr5\t26961223\t26960931\t-\t.\tAT5G67610\tAT5G67610\tAT5G67610\t293\n",
      "AT5G67610.1\tthree_prime_utr\tchr5:26960992..26961223\tchr5\t26961223\t26960904\t-\t.\tAT5G67610\tAT5G67610\tAT5G67610\t232\n",
      "AT5G67600.1\tthree_prime_utr\tchr5:26959569..26959753\tchr5\t26959753\t26959533\t-\t.\tWIH1\tAT5G67600\tAT5G67600\t185\n",
      "AT5G67590.1\tthree_prime_utr\tchr5:26959357..26959557\tchr5\t26959357\t26959557\t+\t.\tFRO1\tAT5G67590\tAT5G67590\t201\n",
      "AT5G67580.2\tthree_prime_utr\tchr5:26955135..26955842\tchr5\t26955842\t26955568\t-\t.\tTRB2\tAT5G67580\tAT5G67580\t708\n",
      "AT5G67580.1\tthree_prime_utr\tchr5:26955135..26955842\tchr5\t26955842\t26955568\t-\t.\tTRB2\tAT5G67580\tAT5G67580\t708\n",
      "AT5G67570.1\tthree_prime_utr\tchr5:26955481..26955543\tchr5\t26955481\t26955543\t+\t.\tDG1\tAT5G67570\tAT5G67570\t63\n",
      "AT5G67560.1\tthree_prime_utr\tchr5:26951914..26952211\tchr5\t26951914\t26952285\t+\t.\tARLA1D\tAT5G67560\tAT5G67560\t298\n",
      "AT5G67550.1\tthree_prime_utr\tchr5:26946754..26946907\tchr5\t26946907\t26946732\t-\t.\tAT5G67550\tAT5G67550\tAT5G67550\t154\n",
      "AT5G67540.2\tthree_prime_utr\tchr5:26944028..26944252\tchr5\t26944252\t26944028\t-\t.\tAT5G67540\tAT5G67540\tAT5G67540\t225\n",
      "AT5G67540.1\tthree_prime_utr\tchr5:26944028..26944252\tchr5\t26944252\t26944028\t-\t.\tAT5G67540\tAT5G67540\tAT5G67540\t225\n",
      "AT5G67530.1\tthree_prime_utr\tchr5:26943879..26944146\tchr5\t26943879\t26944146\t+\t.\tPUB49\tAT5G67530\tAT5G67530\t268\n",
      "AT5G67520.1\tthree_prime_utr\tchr5:26940843..26941010\tchr5\t26940843\t26941050\t+\t.\tAPK4\tAT5G67520\tAT5G67520\t168\n",
      "AT5G67510.1\tthree_prime_utr\tchr5:26937813..26937969\tchr5\t26937969\t26937621\t-\t.\tAT5G67510\tAT5G67510\tAT5G67510\t157\n",
      "AT5G67500.2\tthree_prime_utr\tchr5:26937124..26937442\tchr5\t26937124\t26937442\t+\t.\tVDAC2\tAT5G67500\tAT5G67500\t319\n",
      "AT5G67490.1\tthree_prime_utr\tchr5:26934153..26934367\tchr5\t26934367\t26934153\t-\t.\tAT5G67490\tAT5G67490\tAT5G67490\t215\n",
      "AT5G67480.2\tthree_prime_utr\tchr5:26930940..26931054\tchr5\t26931054\t26930940\t-\t.\tBT4\tAT5G67480\tAT5G67480\t115\n",
      "AT5G67480.1\tthree_prime_utr\tchr5:26930939..26931054\tchr5\t26931054\t26930539\t-\t.\tBT4\tAT5G67480\tAT5G67480\t116\n",
      "--------------------------------------------------------------------------------------------------------------------------------------------------\n",
      "AT1G01100.1\tthree_prime_utr\tchr1:50090..50283\tchr1\t50283\t50090\t-\t.\tAT1G01100\tAT1G01100\tAT1G01100\t194\n",
      "AT1G01090.1\tthree_prime_utr\tchr1:47485..47704\tchr1\t47704\t47234\t-\t.\tPDH-E1\tAT1G01090\tAT1G01090\t220\n",
      "AT1G01080.2\tthree_prime_utr\tchr1:45296..45502\tchr1\t45502\t45296\t-\t.\tAT1G01080\tAT1G01080\tAT1G01080\t207\n",
      "AT1G01080.1\tthree_prime_utr\tchr1:45296..45502\tchr1\t45502\t44970\t-\t.\tAT1G01080\tAT1G01080\tAT1G01080\t207\n",
      "AT1G01070.2\tthree_prime_utr\tchr1:38752..38897\tchr1\t38897\t38752\t-\t.\tUMAMIT28\tAT1G01070\tAT1G01070\t146\n",
      "AT1G01070.1\tthree_prime_utr\tchr1:38752..38897\tchr1\t38897\t38444\t-\t.\tUMAMIT28\tAT1G01070\tAT1G01070\t146\n",
      "AT1G01060.5\tthree_prime_utr\tchr1:33967..33991\tchr1\t33991\t33967\t-\t.\tLHY\tAT1G01060\tAT1G01060\t25\n",
      "AT1G01060.4\tthree_prime_utr\tchr1:33666..33991\tchr1\t33991\t33666\t-\t.\tLHY\tAT1G01060\tAT1G01060\t326\n",
      "AT1G01060.3\tthree_prime_utr\tchr1:33379..33991\tchr1\t33991\t33981\t-\t.\tLHY\tAT1G01060\tAT1G01060\t222\n",
      "AT1G01060.3\tthree_prime_utr\tchr1:33379..33991\tchr1\t33589\t33379\t-\t.\tLHY\tAT1G01060\tAT1G01060\t222\n",
      "AT1G01060.2\tthree_prime_utr\tchr1:33666..33991\tchr1\t33991\t33666\t-\t.\tLHY\tAT1G01060\tAT1G01060\t326\n",
      "AT1G01060.1\tthree_prime_utr\tchr1:33666..33991\tchr1\t33991\t33662\t-\t.\tLHY\tAT1G01060\tAT1G01060\t326\n",
      "AT1G01050.1\tthree_prime_utr\tchr1:31170..31381\tchr1\t31381\t31170\t-\t.\tPPa1\tAT1G01050\tAT1G01050\t212\n",
      "AT1G01040.2\tthree_prime_utr\tchr1:31080..31120\tchr1\t31080\t31120\t+\t.\tDCL1\tAT1G01040\tAT1G01040\t41\n",
      "AT1G01040.1\tthree_prime_utr\tchr1:31080..31227\tchr1\t31080\t31227\t+\t.\tDCL1\tAT1G01040\tAT1G01040\t148\n",
      "AT1G01030.1\tthree_prime_utr\tchr1:11649..11863\tchr1\t11863\t11649\t-\t.\tNGA3\tAT1G01030\tAT1G01030\t215\n",
      "AT1G01020.2\tthree_prime_utr\tchr1:6790..7314\tchr1\t7314\t7157\t-\t.\tARV1\tAT1G01020\tAT1G01020\t438\n",
      "AT1G01020.2\tthree_prime_utr\tchr1:6790..7314\tchr1\t7069\t6788\t-\t.\tARV1\tAT1G01020\tAT1G01020\t438\n",
      "AT1G01020.1\tthree_prime_utr\tchr1:5928..6914\tchr1\t6914\t6788\t-\t.\tARV1\tAT1G01020\tAT1G01020\t814\n",
      "AT1G01010.1\tthree_prime_utr\tchr1:5631..5899\tchr1\t5631\t5899\t+\t.\tNAC001\tAT1G01010\tAT1G01010\t269\n"
     ]
    }
   ],
   "source": [
    "%%bash\n",
    "cd ../TAIR10/\n",
    "sort -k1,1 -r 3UTR.coords.dict|head -n 20\n",
    "echo --------------------------------------------------------------------------------------------------------------------------------------------------\n",
    "sort -k1,1 -r 3UTR.coords.dict|tail -n 20\n"
   ]
  }
 ],
 "metadata": {
  "kernelspec": {
   "display_name": "Python 3 (ipykernel)",
   "language": "python",
   "name": "python3"
  },
  "language_info": {
   "codemirror_mode": {
    "name": "ipython",
    "version": 3
   },
   "file_extension": ".py",
   "mimetype": "text/x-python",
   "name": "python",
   "nbconvert_exporter": "python",
   "pygments_lexer": "ipython3",
   "version": "3.7.3"
  },
  "orig_nbformat": 4
 },
 "nbformat": 4,
 "nbformat_minor": 2
}
